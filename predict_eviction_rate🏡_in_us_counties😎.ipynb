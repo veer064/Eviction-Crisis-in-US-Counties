{
 "cells": [
  {
   "cell_type": "markdown",
   "metadata": {},
   "source": [
    "# Analysis of Eviction in US Counties & ML Model to Predict Eviction rate."
   ]
  },
  {
   "cell_type": "markdown",
   "metadata": {},
   "source": [
    "Importing Libraries\n",
    "----"
   ]
  },
  {
   "cell_type": "code",
   "execution_count": 1,
   "metadata": {},
   "outputs": [],
   "source": [
    "import pandas as pd\n",
    "import numpy as np\n",
    "\n",
    "import matplotlib.pyplot as plt\n",
    "%matplotlib inline\n",
    "import matplotlib.ticker\n",
    "import seaborn as sns\n",
    "\n",
    "from sklearn.model_selection import train_test_split, RandomizedSearchCV, GridSearchCV\n",
    "from sklearn import svm\n",
    "from sklearn import linear_model\n",
    "\n",
    "\n",
    "from sklearn import metrics\n",
    "from sklearn import preprocessing\n",
    "from sklearn.metrics import make_scorer, r2_score, explained_variance_score, mean_absolute_error, mean_squared_error \n",
    "\n",
    "#setting max number of columns to display == 25 in pandas options.\n",
    "pd.options.display.max_columns = 30"
   ]
  },
  {
   "cell_type": "markdown",
   "metadata": {},
   "source": [
    "importing dataset 'counties_us.csv'\n",
    "---"
   ]
  },
  {
   "cell_type": "code",
   "execution_count": 2,
   "metadata": {},
   "outputs": [],
   "source": [
    "counties_us = pd.read_csv(\"counties_us.csv\")\n",
    "counties_us = counties_us.drop('Unnamed: 0', axis = 1)"
   ]
  },
  {
   "cell_type": "code",
   "execution_count": 3,
   "metadata": {},
   "outputs": [
    {
     "data": {
      "text/html": [
       "<div>\n",
       "<style scoped>\n",
       "    .dataframe tbody tr th:only-of-type {\n",
       "        vertical-align: middle;\n",
       "    }\n",
       "\n",
       "    .dataframe tbody tr th {\n",
       "        vertical-align: top;\n",
       "    }\n",
       "\n",
       "    .dataframe thead th {\n",
       "        text-align: right;\n",
       "    }\n",
       "</style>\n",
       "<table border=\"1\" class=\"dataframe\">\n",
       "  <thead>\n",
       "    <tr style=\"text-align: right;\">\n",
       "      <th></th>\n",
       "      <th>year</th>\n",
       "      <th>county</th>\n",
       "      <th>state</th>\n",
       "      <th>population</th>\n",
       "      <th>poverty_rate</th>\n",
       "      <th>renter_occupied_households</th>\n",
       "      <th>pct_renter_occupied</th>\n",
       "      <th>median_gross_rent</th>\n",
       "      <th>median_household_income</th>\n",
       "      <th>median_property_value</th>\n",
       "      <th>rent_burden</th>\n",
       "      <th>pct_white</th>\n",
       "      <th>pct_af_am</th>\n",
       "      <th>pct_hispanic</th>\n",
       "      <th>pct_am_ind</th>\n",
       "      <th>pct_asian</th>\n",
       "      <th>pct_nh_pi</th>\n",
       "      <th>pct_multiple</th>\n",
       "      <th>pct_other</th>\n",
       "      <th>eviction_filings</th>\n",
       "      <th>evictions</th>\n",
       "      <th>eviction_rate</th>\n",
       "      <th>eviction_filing_rate</th>\n",
       "    </tr>\n",
       "  </thead>\n",
       "  <tbody>\n",
       "    <tr>\n",
       "      <th>0</th>\n",
       "      <td>2001</td>\n",
       "      <td>Aleutians East Borough</td>\n",
       "      <td>Alaska</td>\n",
       "      <td>2697.0</td>\n",
       "      <td>21.83</td>\n",
       "      <td>225.0</td>\n",
       "      <td>41.83</td>\n",
       "      <td>710.0</td>\n",
       "      <td>47875.0</td>\n",
       "      <td>99500.0</td>\n",
       "      <td>18.6</td>\n",
       "      <td>19.32</td>\n",
       "      <td>1.56</td>\n",
       "      <td>12.57</td>\n",
       "      <td>37.04</td>\n",
       "      <td>26.40</td>\n",
       "      <td>0.30</td>\n",
       "      <td>2.71</td>\n",
       "      <td>0.11</td>\n",
       "      <td>NaN</td>\n",
       "      <td>NaN</td>\n",
       "      <td>NaN</td>\n",
       "      <td>NaN</td>\n",
       "    </tr>\n",
       "    <tr>\n",
       "      <th>1</th>\n",
       "      <td>2002</td>\n",
       "      <td>Aleutians East Borough</td>\n",
       "      <td>Alaska</td>\n",
       "      <td>2697.0</td>\n",
       "      <td>21.83</td>\n",
       "      <td>230.0</td>\n",
       "      <td>41.83</td>\n",
       "      <td>710.0</td>\n",
       "      <td>47875.0</td>\n",
       "      <td>99500.0</td>\n",
       "      <td>18.6</td>\n",
       "      <td>19.32</td>\n",
       "      <td>1.56</td>\n",
       "      <td>12.57</td>\n",
       "      <td>37.04</td>\n",
       "      <td>26.40</td>\n",
       "      <td>0.30</td>\n",
       "      <td>2.71</td>\n",
       "      <td>0.11</td>\n",
       "      <td>NaN</td>\n",
       "      <td>NaN</td>\n",
       "      <td>NaN</td>\n",
       "      <td>NaN</td>\n",
       "    </tr>\n",
       "    <tr>\n",
       "      <th>2</th>\n",
       "      <td>2003</td>\n",
       "      <td>Aleutians East Borough</td>\n",
       "      <td>Alaska</td>\n",
       "      <td>2697.0</td>\n",
       "      <td>21.83</td>\n",
       "      <td>234.0</td>\n",
       "      <td>41.83</td>\n",
       "      <td>710.0</td>\n",
       "      <td>47875.0</td>\n",
       "      <td>99500.0</td>\n",
       "      <td>18.6</td>\n",
       "      <td>19.32</td>\n",
       "      <td>1.56</td>\n",
       "      <td>12.57</td>\n",
       "      <td>37.04</td>\n",
       "      <td>26.40</td>\n",
       "      <td>0.30</td>\n",
       "      <td>2.71</td>\n",
       "      <td>0.11</td>\n",
       "      <td>NaN</td>\n",
       "      <td>NaN</td>\n",
       "      <td>NaN</td>\n",
       "      <td>NaN</td>\n",
       "    </tr>\n",
       "    <tr>\n",
       "      <th>3</th>\n",
       "      <td>2004</td>\n",
       "      <td>Aleutians East Borough</td>\n",
       "      <td>Alaska</td>\n",
       "      <td>2697.0</td>\n",
       "      <td>21.83</td>\n",
       "      <td>239.0</td>\n",
       "      <td>41.83</td>\n",
       "      <td>710.0</td>\n",
       "      <td>47875.0</td>\n",
       "      <td>99500.0</td>\n",
       "      <td>18.6</td>\n",
       "      <td>19.32</td>\n",
       "      <td>1.56</td>\n",
       "      <td>12.57</td>\n",
       "      <td>37.04</td>\n",
       "      <td>26.40</td>\n",
       "      <td>0.30</td>\n",
       "      <td>2.71</td>\n",
       "      <td>0.11</td>\n",
       "      <td>NaN</td>\n",
       "      <td>NaN</td>\n",
       "      <td>NaN</td>\n",
       "      <td>NaN</td>\n",
       "    </tr>\n",
       "    <tr>\n",
       "      <th>4</th>\n",
       "      <td>2005</td>\n",
       "      <td>Aleutians East Borough</td>\n",
       "      <td>Alaska</td>\n",
       "      <td>2959.0</td>\n",
       "      <td>8.37</td>\n",
       "      <td>244.0</td>\n",
       "      <td>58.59</td>\n",
       "      <td>654.0</td>\n",
       "      <td>56250.0</td>\n",
       "      <td>122100.0</td>\n",
       "      <td>18.0</td>\n",
       "      <td>9.97</td>\n",
       "      <td>9.83</td>\n",
       "      <td>9.50</td>\n",
       "      <td>17.17</td>\n",
       "      <td>47.48</td>\n",
       "      <td>0.34</td>\n",
       "      <td>5.58</td>\n",
       "      <td>0.14</td>\n",
       "      <td>NaN</td>\n",
       "      <td>NaN</td>\n",
       "      <td>NaN</td>\n",
       "      <td>NaN</td>\n",
       "    </tr>\n",
       "  </tbody>\n",
       "</table>\n",
       "</div>"
      ],
      "text/plain": [
       "   year                  county   state  population  poverty_rate  \\\n",
       "0  2001  Aleutians East Borough  Alaska      2697.0         21.83   \n",
       "1  2002  Aleutians East Borough  Alaska      2697.0         21.83   \n",
       "2  2003  Aleutians East Borough  Alaska      2697.0         21.83   \n",
       "3  2004  Aleutians East Borough  Alaska      2697.0         21.83   \n",
       "4  2005  Aleutians East Borough  Alaska      2959.0          8.37   \n",
       "\n",
       "   renter_occupied_households  pct_renter_occupied  median_gross_rent  \\\n",
       "0                       225.0                41.83              710.0   \n",
       "1                       230.0                41.83              710.0   \n",
       "2                       234.0                41.83              710.0   \n",
       "3                       239.0                41.83              710.0   \n",
       "4                       244.0                58.59              654.0   \n",
       "\n",
       "   median_household_income  median_property_value  rent_burden  pct_white  \\\n",
       "0                  47875.0                99500.0         18.6      19.32   \n",
       "1                  47875.0                99500.0         18.6      19.32   \n",
       "2                  47875.0                99500.0         18.6      19.32   \n",
       "3                  47875.0                99500.0         18.6      19.32   \n",
       "4                  56250.0               122100.0         18.0       9.97   \n",
       "\n",
       "   pct_af_am  pct_hispanic  pct_am_ind  pct_asian  pct_nh_pi  pct_multiple  \\\n",
       "0       1.56         12.57       37.04      26.40       0.30          2.71   \n",
       "1       1.56         12.57       37.04      26.40       0.30          2.71   \n",
       "2       1.56         12.57       37.04      26.40       0.30          2.71   \n",
       "3       1.56         12.57       37.04      26.40       0.30          2.71   \n",
       "4       9.83          9.50       17.17      47.48       0.34          5.58   \n",
       "\n",
       "   pct_other  eviction_filings  evictions  eviction_rate  eviction_filing_rate  \n",
       "0       0.11               NaN        NaN            NaN                   NaN  \n",
       "1       0.11               NaN        NaN            NaN                   NaN  \n",
       "2       0.11               NaN        NaN            NaN                   NaN  \n",
       "3       0.11               NaN        NaN            NaN                   NaN  \n",
       "4       0.14               NaN        NaN            NaN                   NaN  "
      ]
     },
     "execution_count": 3,
     "metadata": {},
     "output_type": "execute_result"
    }
   ],
   "source": [
    "counties_us.head()"
   ]
  },
  {
   "cell_type": "code",
   "execution_count": 4,
   "metadata": {},
   "outputs": [
    {
     "data": {
      "text/plain": [
       "['year',\n",
       " 'county',\n",
       " 'state',\n",
       " 'population',\n",
       " 'poverty_rate',\n",
       " 'renter_occupied_households',\n",
       " 'pct_renter_occupied',\n",
       " 'median_gross_rent',\n",
       " 'median_household_income',\n",
       " 'median_property_value',\n",
       " 'rent_burden',\n",
       " 'pct_white',\n",
       " 'pct_af_am',\n",
       " 'pct_hispanic',\n",
       " 'pct_am_ind',\n",
       " 'pct_asian',\n",
       " 'pct_nh_pi',\n",
       " 'pct_multiple',\n",
       " 'pct_other',\n",
       " 'eviction_filings',\n",
       " 'evictions',\n",
       " 'eviction_rate',\n",
       " 'eviction_filing_rate']"
      ]
     },
     "execution_count": 4,
     "metadata": {},
     "output_type": "execute_result"
    }
   ],
   "source": [
    "#column names of data\n",
    "\n",
    "Col_list = counties_us.columns.tolist()\n",
    "\n",
    "Col_list"
   ]
  },
  {
   "cell_type": "code",
   "execution_count": 5,
   "metadata": {},
   "outputs": [
    {
     "data": {
      "text/plain": [
       "year                            int64\n",
       "evictions                     float64\n",
       "eviction_filings              float64\n",
       "pct_other                     float64\n",
       "pct_multiple                  float64\n",
       "pct_nh_pi                     float64\n",
       "pct_asian                     float64\n",
       "pct_am_ind                    float64\n",
       "pct_hispanic                  float64\n",
       "pct_af_am                     float64\n",
       "eviction_rate                 float64\n",
       "pct_white                     float64\n",
       "median_property_value         float64\n",
       "median_household_income       float64\n",
       "median_gross_rent             float64\n",
       "pct_renter_occupied           float64\n",
       "renter_occupied_households    float64\n",
       "poverty_rate                  float64\n",
       "population                    float64\n",
       "rent_burden                   float64\n",
       "eviction_filing_rate          float64\n",
       "state                          object\n",
       "county                         object\n",
       "dtype: object"
      ]
     },
     "execution_count": 5,
     "metadata": {},
     "output_type": "execute_result"
    }
   ],
   "source": [
    "#col data types\n",
    "#sorting by type for simple vision and understanding\n",
    "\n",
    "counties_us.dtypes.sort_values()"
   ]
  },
  {
   "cell_type": "markdown",
   "metadata": {},
   "source": [
    ">We have 1 int type, 20 float type and 2 object type variables."
   ]
  },
  {
   "cell_type": "markdown",
   "metadata": {},
   "source": [
    "Data Dictionary:\n",
    "----"
   ]
  },
  {
   "cell_type": "raw",
   "metadata": {},
   "source": [
    "* Creating a dictionary with column names and what they mean to the data. \n",
    "* For further reference when ever required."
   ]
  },
  {
   "cell_type": "code",
   "execution_count": 6,
   "metadata": {},
   "outputs": [],
   "source": [
    "col_meaning_list = [ \"The year of which the recorded information belongs to.\",\n",
    "\"Census location name (modified for display on map)\", \n",
    "\"Parent location of given geography.- USA for states, state for counties and cities, counties for tracts and block groups\", \n",
    "\"Total population of the county for the corresponding year.\", \n",
    "\"% of the population with income in the past 12 months below the poverty level\", \n",
    "\"Interpolated count of renter-occupied households - Based on Census and ESRI Business Analyst demographic estimates\", \n",
    "\"% of occupied housing units that are renter-occupied. - NOTE: This is not based off of the interpolated renter-occupied-households variable\", \n",
    "\"Median gross rent\", \n",
    "\"Median household income\",\n",
    "\"Median property value\",\n",
    "\"Median gross rent as a percentage of household income, max is 50% representing >= 50%\", \n",
    "\"% population that is White alone and not Hispanic or Latino\", \n",
    "\"% population that is Black or African American alone and not Hispanic or Latino\",\n",
    "\"% population that is of Hispanic or Latino origin\",\n",
    "\"% population that is American Indian and Alaska Native alone and not Hispanic or Latino\",\n",
    "\"% population that is Asian alone and not Hispanic or Latino\",\n",
    "\"% population that is Native Hawaiian and Other Pacific Islander alone and not Hispanic or Latino\",  \n",
    "\"% population that is two or more races and not Hispanic or Latino\",\n",
    "\"% population that is other race alone and not Hispanic or Latino\",\n",
    "\"All eviction cases filed in an area, including multiple cases filed against the same address in the same year\",                    \n",
    "\"Number of eviction judgments in which renters were ordered to leave in a given area and year  - Only counts a single address which received an eviction judgment per year\",\n",
    "\"Ratio of the number of renter-occupied households in an area that received an eviction judgement in which renters were ordered to leave - Only counts a single address per year which received an eviction judgment\",\n",
    "\"Ratio of the number of evictions filed in an area over the number of renter-occupied homes in that area - Counts all eviction cases filed in an area, including multiple cases filed against the same address in the same year\"]"
   ]
  },
  {
   "cell_type": "code",
   "execution_count": 7,
   "metadata": {},
   "outputs": [
    {
     "data": {
      "text/plain": [
       "{'year': 'The year of which the recorded information belongs to.',\n",
       " 'county': 'Census location name (modified for display on map)',\n",
       " 'state': 'Parent location of given geography.- USA for states, state for counties and cities, counties for tracts and block groups',\n",
       " 'population': 'Total population of the county for the corresponding year.',\n",
       " 'poverty_rate': '% of the population with income in the past 12 months below the poverty level',\n",
       " 'renter_occupied_households': 'Interpolated count of renter-occupied households - Based on Census and ESRI Business Analyst demographic estimates',\n",
       " 'pct_renter_occupied': '% of occupied housing units that are renter-occupied. - NOTE: This is not based off of the interpolated renter-occupied-households variable',\n",
       " 'median_gross_rent': 'Median gross rent',\n",
       " 'median_household_income': 'Median household income',\n",
       " 'median_property_value': 'Median property value',\n",
       " 'rent_burden': 'Median gross rent as a percentage of household income, max is 50% representing >= 50%',\n",
       " 'pct_white': '% population that is White alone and not Hispanic or Latino',\n",
       " 'pct_af_am': '% population that is Black or African American alone and not Hispanic or Latino',\n",
       " 'pct_hispanic': '% population that is of Hispanic or Latino origin',\n",
       " 'pct_am_ind': '% population that is American Indian and Alaska Native alone and not Hispanic or Latino',\n",
       " 'pct_asian': '% population that is Asian alone and not Hispanic or Latino',\n",
       " 'pct_nh_pi': '% population that is Native Hawaiian and Other Pacific Islander alone and not Hispanic or Latino',\n",
       " 'pct_multiple': '% population that is two or more races and not Hispanic or Latino',\n",
       " 'pct_other': '% population that is other race alone and not Hispanic or Latino',\n",
       " 'eviction_filings': 'All eviction cases filed in an area, including multiple cases filed against the same address in the same year',\n",
       " 'evictions': 'Number of eviction judgments in which renters were ordered to leave in a given area and year  - Only counts a single address which received an eviction judgment per year',\n",
       " 'eviction_rate': 'Ratio of the number of renter-occupied households in an area that received an eviction judgement in which renters were ordered to leave - Only counts a single address per year which received an eviction judgment',\n",
       " 'eviction_filing_rate': 'Ratio of the number of evictions filed in an area over the number of renter-occupied homes in that area - Counts all eviction cases filed in an area, including multiple cases filed against the same address in the same year'}"
      ]
     },
     "execution_count": 7,
     "metadata": {},
     "output_type": "execute_result"
    }
   ],
   "source": [
    "data_dict = {}\n",
    "\n",
    "for i in range(len(Col_list)):\n",
    "    data_dict[Col_list[i]] = col_meaning_list[i]\n",
    "    \n",
    "data_dict   "
   ]
  },
  {
   "cell_type": "code",
   "execution_count": 8,
   "metadata": {},
   "outputs": [
    {
     "data": {
      "text/plain": [
       "'Census location name (modified for display on map)'"
      ]
     },
     "execution_count": 8,
     "metadata": {},
     "output_type": "execute_result"
    }
   ],
   "source": [
    "#what is 'county'?\n",
    "\n",
    "data_dict['county']"
   ]
  },
  {
   "cell_type": "code",
   "execution_count": 9,
   "metadata": {},
   "outputs": [
    {
     "data": {
      "text/plain": [
       "'Number of eviction judgments in which renters were ordered to leave in a given area and year  - Only counts a single address which received an eviction judgment per year'"
      ]
     },
     "execution_count": 9,
     "metadata": {},
     "output_type": "execute_result"
    }
   ],
   "source": [
    "#what is evictions?\n",
    "\n",
    "data_dict['evictions']"
   ]
  },
  {
   "cell_type": "markdown",
   "metadata": {},
   "source": [
    "Summary Statistics Of Data\n",
    "----"
   ]
  },
  {
   "cell_type": "code",
   "execution_count": 10,
   "metadata": {},
   "outputs": [
    {
     "data": {
      "text/html": [
       "<div>\n",
       "<style scoped>\n",
       "    .dataframe tbody tr th:only-of-type {\n",
       "        vertical-align: middle;\n",
       "    }\n",
       "\n",
       "    .dataframe tbody tr th {\n",
       "        vertical-align: top;\n",
       "    }\n",
       "\n",
       "    .dataframe thead th {\n",
       "        text-align: right;\n",
       "    }\n",
       "</style>\n",
       "<table border=\"1\" class=\"dataframe\">\n",
       "  <thead>\n",
       "    <tr style=\"text-align: right;\">\n",
       "      <th></th>\n",
       "      <th>year</th>\n",
       "      <th>county</th>\n",
       "      <th>state</th>\n",
       "      <th>population</th>\n",
       "      <th>poverty_rate</th>\n",
       "      <th>renter_occupied_households</th>\n",
       "      <th>pct_renter_occupied</th>\n",
       "      <th>median_gross_rent</th>\n",
       "      <th>median_household_income</th>\n",
       "      <th>median_property_value</th>\n",
       "      <th>rent_burden</th>\n",
       "      <th>pct_white</th>\n",
       "      <th>pct_af_am</th>\n",
       "      <th>pct_hispanic</th>\n",
       "      <th>pct_am_ind</th>\n",
       "      <th>pct_asian</th>\n",
       "      <th>pct_nh_pi</th>\n",
       "      <th>pct_multiple</th>\n",
       "      <th>pct_other</th>\n",
       "      <th>eviction_filings</th>\n",
       "      <th>evictions</th>\n",
       "      <th>eviction_rate</th>\n",
       "      <th>eviction_filing_rate</th>\n",
       "    </tr>\n",
       "  </thead>\n",
       "  <tbody>\n",
       "    <tr>\n",
       "      <th>count</th>\n",
       "      <td>53,435.00</td>\n",
       "      <td>53435</td>\n",
       "      <td>53435</td>\n",
       "      <td>53,414.00</td>\n",
       "      <td>53,414.00</td>\n",
       "      <td>53,430.00</td>\n",
       "      <td>53,414.00</td>\n",
       "      <td>53,403.00</td>\n",
       "      <td>53,408.00</td>\n",
       "      <td>53,396.00</td>\n",
       "      <td>53,404.00</td>\n",
       "      <td>53,414.00</td>\n",
       "      <td>53,414.00</td>\n",
       "      <td>53,414.00</td>\n",
       "      <td>53,414.00</td>\n",
       "      <td>53,414.00</td>\n",
       "      <td>53,414.00</td>\n",
       "      <td>53,414.00</td>\n",
       "      <td>53,414.00</td>\n",
       "      <td>44,167.00</td>\n",
       "      <td>41,338.00</td>\n",
       "      <td>41,338.00</td>\n",
       "      <td>44,167.00</td>\n",
       "    </tr>\n",
       "    <tr>\n",
       "      <th>unique</th>\n",
       "      <td>nan</td>\n",
       "      <td>1878</td>\n",
       "      <td>51</td>\n",
       "      <td>nan</td>\n",
       "      <td>nan</td>\n",
       "      <td>nan</td>\n",
       "      <td>nan</td>\n",
       "      <td>nan</td>\n",
       "      <td>nan</td>\n",
       "      <td>nan</td>\n",
       "      <td>nan</td>\n",
       "      <td>nan</td>\n",
       "      <td>nan</td>\n",
       "      <td>nan</td>\n",
       "      <td>nan</td>\n",
       "      <td>nan</td>\n",
       "      <td>nan</td>\n",
       "      <td>nan</td>\n",
       "      <td>nan</td>\n",
       "      <td>nan</td>\n",
       "      <td>nan</td>\n",
       "      <td>nan</td>\n",
       "      <td>nan</td>\n",
       "    </tr>\n",
       "    <tr>\n",
       "      <th>top</th>\n",
       "      <td>nan</td>\n",
       "      <td>Washington County</td>\n",
       "      <td>Texas</td>\n",
       "      <td>nan</td>\n",
       "      <td>nan</td>\n",
       "      <td>nan</td>\n",
       "      <td>nan</td>\n",
       "      <td>nan</td>\n",
       "      <td>nan</td>\n",
       "      <td>nan</td>\n",
       "      <td>nan</td>\n",
       "      <td>nan</td>\n",
       "      <td>nan</td>\n",
       "      <td>nan</td>\n",
       "      <td>nan</td>\n",
       "      <td>nan</td>\n",
       "      <td>nan</td>\n",
       "      <td>nan</td>\n",
       "      <td>nan</td>\n",
       "      <td>nan</td>\n",
       "      <td>nan</td>\n",
       "      <td>nan</td>\n",
       "      <td>nan</td>\n",
       "    </tr>\n",
       "    <tr>\n",
       "      <th>freq</th>\n",
       "      <td>nan</td>\n",
       "      <td>510</td>\n",
       "      <td>4318</td>\n",
       "      <td>nan</td>\n",
       "      <td>nan</td>\n",
       "      <td>nan</td>\n",
       "      <td>nan</td>\n",
       "      <td>nan</td>\n",
       "      <td>nan</td>\n",
       "      <td>nan</td>\n",
       "      <td>nan</td>\n",
       "      <td>nan</td>\n",
       "      <td>nan</td>\n",
       "      <td>nan</td>\n",
       "      <td>nan</td>\n",
       "      <td>nan</td>\n",
       "      <td>nan</td>\n",
       "      <td>nan</td>\n",
       "      <td>nan</td>\n",
       "      <td>nan</td>\n",
       "      <td>nan</td>\n",
       "      <td>nan</td>\n",
       "      <td>nan</td>\n",
       "    </tr>\n",
       "    <tr>\n",
       "      <th>mean</th>\n",
       "      <td>2,008.00</td>\n",
       "      <td>NaN</td>\n",
       "      <td>NaN</td>\n",
       "      <td>95,896.38</td>\n",
       "      <td>12.53</td>\n",
       "      <td>12,741.01</td>\n",
       "      <td>27.32</td>\n",
       "      <td>596.17</td>\n",
       "      <td>42,399.47</td>\n",
       "      <td>117,873.02</td>\n",
       "      <td>26.76</td>\n",
       "      <td>79.10</td>\n",
       "      <td>8.78</td>\n",
       "      <td>7.63</td>\n",
       "      <td>1.78</td>\n",
       "      <td>1.07</td>\n",
       "      <td>0.08</td>\n",
       "      <td>1.47</td>\n",
       "      <td>0.09</td>\n",
       "      <td>835.53</td>\n",
       "      <td>373.98</td>\n",
       "      <td>1.68</td>\n",
       "      <td>3.01</td>\n",
       "    </tr>\n",
       "    <tr>\n",
       "      <th>std</th>\n",
       "      <td>4.90</td>\n",
       "      <td>NaN</td>\n",
       "      <td>NaN</td>\n",
       "      <td>309,640.49</td>\n",
       "      <td>6.09</td>\n",
       "      <td>50,849.04</td>\n",
       "      <td>8.01</td>\n",
       "      <td>199.36</td>\n",
       "      <td>12,085.51</td>\n",
       "      <td>77,538.04</td>\n",
       "      <td>4.77</td>\n",
       "      <td>19.59</td>\n",
       "      <td>14.40</td>\n",
       "      <td>12.88</td>\n",
       "      <td>7.38</td>\n",
       "      <td>2.43</td>\n",
       "      <td>0.75</td>\n",
       "      <td>1.55</td>\n",
       "      <td>0.16</td>\n",
       "      <td>4,278.98</td>\n",
       "      <td>1,542.80</td>\n",
       "      <td>1.98</td>\n",
       "      <td>4.92</td>\n",
       "    </tr>\n",
       "    <tr>\n",
       "      <th>min</th>\n",
       "      <td>2,000.00</td>\n",
       "      <td>NaN</td>\n",
       "      <td>NaN</td>\n",
       "      <td>67.00</td>\n",
       "      <td>0.00</td>\n",
       "      <td>5.00</td>\n",
       "      <td>7.35</td>\n",
       "      <td>178.00</td>\n",
       "      <td>9,333.00</td>\n",
       "      <td>0.00</td>\n",
       "      <td>8.10</td>\n",
       "      <td>0.95</td>\n",
       "      <td>0.00</td>\n",
       "      <td>0.00</td>\n",
       "      <td>0.00</td>\n",
       "      <td>0.00</td>\n",
       "      <td>0.00</td>\n",
       "      <td>0.00</td>\n",
       "      <td>0.00</td>\n",
       "      <td>0.00</td>\n",
       "      <td>0.00</td>\n",
       "      <td>0.00</td>\n",
       "      <td>0.00</td>\n",
       "    </tr>\n",
       "    <tr>\n",
       "      <th>25%</th>\n",
       "      <td>2,004.00</td>\n",
       "      <td>NaN</td>\n",
       "      <td>NaN</td>\n",
       "      <td>11,031.00</td>\n",
       "      <td>8.23</td>\n",
       "      <td>1,049.00</td>\n",
       "      <td>21.99</td>\n",
       "      <td>461.00</td>\n",
       "      <td>34,038.00</td>\n",
       "      <td>74,200.00</td>\n",
       "      <td>23.50</td>\n",
       "      <td>68.17</td>\n",
       "      <td>0.42</td>\n",
       "      <td>1.31</td>\n",
       "      <td>0.15</td>\n",
       "      <td>0.20</td>\n",
       "      <td>0.00</td>\n",
       "      <td>0.72</td>\n",
       "      <td>0.00</td>\n",
       "      <td>3.00</td>\n",
       "      <td>3.00</td>\n",
       "      <td>0.32</td>\n",
       "      <td>0.35</td>\n",
       "    </tr>\n",
       "    <tr>\n",
       "      <th>50%</th>\n",
       "      <td>2,008.00</td>\n",
       "      <td>NaN</td>\n",
       "      <td>NaN</td>\n",
       "      <td>25,421.00</td>\n",
       "      <td>11.52</td>\n",
       "      <td>2,552.00</td>\n",
       "      <td>25.94</td>\n",
       "      <td>570.00</td>\n",
       "      <td>40,674.00</td>\n",
       "      <td>96,000.00</td>\n",
       "      <td>26.70</td>\n",
       "      <td>86.54</td>\n",
       "      <td>1.93</td>\n",
       "      <td>2.78</td>\n",
       "      <td>0.28</td>\n",
       "      <td>0.44</td>\n",
       "      <td>0.01</td>\n",
       "      <td>1.14</td>\n",
       "      <td>0.04</td>\n",
       "      <td>30.00</td>\n",
       "      <td>25.00</td>\n",
       "      <td>1.11</td>\n",
       "      <td>1.45</td>\n",
       "    </tr>\n",
       "    <tr>\n",
       "      <th>75%</th>\n",
       "      <td>2,012.00</td>\n",
       "      <td>NaN</td>\n",
       "      <td>NaN</td>\n",
       "      <td>64,886.00</td>\n",
       "      <td>15.50</td>\n",
       "      <td>7,147.00</td>\n",
       "      <td>31.15</td>\n",
       "      <td>685.00</td>\n",
       "      <td>48,383.00</td>\n",
       "      <td>137,400.00</td>\n",
       "      <td>29.80</td>\n",
       "      <td>94.52</td>\n",
       "      <td>10.00</td>\n",
       "      <td>7.29</td>\n",
       "      <td>0.64</td>\n",
       "      <td>0.98</td>\n",
       "      <td>0.04</td>\n",
       "      <td>1.73</td>\n",
       "      <td>0.11</td>\n",
       "      <td>210.00</td>\n",
       "      <td>140.00</td>\n",
       "      <td>2.31</td>\n",
       "      <td>3.55</td>\n",
       "    </tr>\n",
       "    <tr>\n",
       "      <th>max</th>\n",
       "      <td>2,016.00</td>\n",
       "      <td>NaN</td>\n",
       "      <td>NaN</td>\n",
       "      <td>10,038,388.00</td>\n",
       "      <td>56.92</td>\n",
       "      <td>1,792,186.00</td>\n",
       "      <td>100.00</td>\n",
       "      <td>2,001.00</td>\n",
       "      <td>123,453.00</td>\n",
       "      <td>1,000,001.00</td>\n",
       "      <td>50.10</td>\n",
       "      <td>100.00</td>\n",
       "      <td>86.76</td>\n",
       "      <td>98.71</td>\n",
       "      <td>94.95</td>\n",
       "      <td>47.48</td>\n",
       "      <td>48.89</td>\n",
       "      <td>33.33</td>\n",
       "      <td>4.90</td>\n",
       "      <td>143,753.00</td>\n",
       "      <td>47,716.00</td>\n",
       "      <td>24.16</td>\n",
       "      <td>118.62</td>\n",
       "    </tr>\n",
       "  </tbody>\n",
       "</table>\n",
       "</div>"
      ],
      "text/plain": [
       "            year             county  state    population  poverty_rate  \\\n",
       "count  53,435.00              53435  53435     53,414.00     53,414.00   \n",
       "unique       nan               1878     51           nan           nan   \n",
       "top          nan  Washington County  Texas           nan           nan   \n",
       "freq         nan                510   4318           nan           nan   \n",
       "mean    2,008.00                NaN    NaN     95,896.38         12.53   \n",
       "std         4.90                NaN    NaN    309,640.49          6.09   \n",
       "min     2,000.00                NaN    NaN         67.00          0.00   \n",
       "25%     2,004.00                NaN    NaN     11,031.00          8.23   \n",
       "50%     2,008.00                NaN    NaN     25,421.00         11.52   \n",
       "75%     2,012.00                NaN    NaN     64,886.00         15.50   \n",
       "max     2,016.00                NaN    NaN 10,038,388.00         56.92   \n",
       "\n",
       "        renter_occupied_households  pct_renter_occupied  median_gross_rent  \\\n",
       "count                    53,430.00            53,414.00          53,403.00   \n",
       "unique                         nan                  nan                nan   \n",
       "top                            nan                  nan                nan   \n",
       "freq                           nan                  nan                nan   \n",
       "mean                     12,741.01                27.32             596.17   \n",
       "std                      50,849.04                 8.01             199.36   \n",
       "min                           5.00                 7.35             178.00   \n",
       "25%                       1,049.00                21.99             461.00   \n",
       "50%                       2,552.00                25.94             570.00   \n",
       "75%                       7,147.00                31.15             685.00   \n",
       "max                   1,792,186.00               100.00           2,001.00   \n",
       "\n",
       "        median_household_income  median_property_value  rent_burden  \\\n",
       "count                 53,408.00              53,396.00    53,404.00   \n",
       "unique                      nan                    nan          nan   \n",
       "top                         nan                    nan          nan   \n",
       "freq                        nan                    nan          nan   \n",
       "mean                  42,399.47             117,873.02        26.76   \n",
       "std                   12,085.51              77,538.04         4.77   \n",
       "min                    9,333.00                   0.00         8.10   \n",
       "25%                   34,038.00              74,200.00        23.50   \n",
       "50%                   40,674.00              96,000.00        26.70   \n",
       "75%                   48,383.00             137,400.00        29.80   \n",
       "max                  123,453.00           1,000,001.00        50.10   \n",
       "\n",
       "        pct_white  pct_af_am  pct_hispanic  pct_am_ind  pct_asian  pct_nh_pi  \\\n",
       "count   53,414.00  53,414.00     53,414.00   53,414.00  53,414.00  53,414.00   \n",
       "unique        nan        nan           nan         nan        nan        nan   \n",
       "top           nan        nan           nan         nan        nan        nan   \n",
       "freq          nan        nan           nan         nan        nan        nan   \n",
       "mean        79.10       8.78          7.63        1.78       1.07       0.08   \n",
       "std         19.59      14.40         12.88        7.38       2.43       0.75   \n",
       "min          0.95       0.00          0.00        0.00       0.00       0.00   \n",
       "25%         68.17       0.42          1.31        0.15       0.20       0.00   \n",
       "50%         86.54       1.93          2.78        0.28       0.44       0.01   \n",
       "75%         94.52      10.00          7.29        0.64       0.98       0.04   \n",
       "max        100.00      86.76         98.71       94.95      47.48      48.89   \n",
       "\n",
       "        pct_multiple  pct_other  eviction_filings  evictions  eviction_rate  \\\n",
       "count      53,414.00  53,414.00         44,167.00  41,338.00      41,338.00   \n",
       "unique           nan        nan               nan        nan            nan   \n",
       "top              nan        nan               nan        nan            nan   \n",
       "freq             nan        nan               nan        nan            nan   \n",
       "mean            1.47       0.09            835.53     373.98           1.68   \n",
       "std             1.55       0.16          4,278.98   1,542.80           1.98   \n",
       "min             0.00       0.00              0.00       0.00           0.00   \n",
       "25%             0.72       0.00              3.00       3.00           0.32   \n",
       "50%             1.14       0.04             30.00      25.00           1.11   \n",
       "75%             1.73       0.11            210.00     140.00           2.31   \n",
       "max            33.33       4.90        143,753.00  47,716.00          24.16   \n",
       "\n",
       "        eviction_filing_rate  \n",
       "count              44,167.00  \n",
       "unique                   nan  \n",
       "top                      nan  \n",
       "freq                     nan  \n",
       "mean                    3.01  \n",
       "std                     4.92  \n",
       "min                     0.00  \n",
       "25%                     0.35  \n",
       "50%                     1.45  \n",
       "75%                     3.55  \n",
       "max                   118.62  "
      ]
     },
     "execution_count": 10,
     "metadata": {},
     "output_type": "execute_result"
    }
   ],
   "source": [
    "# setting decimal values in pandas to .2f\n",
    "\n",
    "pd.options.display.float_format = \"{:,.2f}\".format\n",
    "\n",
    "counties_us.describe(include='all')"
   ]
  },
  {
   "cell_type": "code",
   "execution_count": 11,
   "metadata": {},
   "outputs": [
    {
     "data": {
      "text/html": [
       "<div>\n",
       "<style scoped>\n",
       "    .dataframe tbody tr th:only-of-type {\n",
       "        vertical-align: middle;\n",
       "    }\n",
       "\n",
       "    .dataframe tbody tr th {\n",
       "        vertical-align: top;\n",
       "    }\n",
       "\n",
       "    .dataframe thead th {\n",
       "        text-align: right;\n",
       "    }\n",
       "</style>\n",
       "<table border=\"1\" class=\"dataframe\">\n",
       "  <thead>\n",
       "    <tr style=\"text-align: right;\">\n",
       "      <th></th>\n",
       "      <th>year</th>\n",
       "      <th>population</th>\n",
       "      <th>poverty_rate</th>\n",
       "      <th>renter_occupied_households</th>\n",
       "      <th>pct_renter_occupied</th>\n",
       "      <th>median_gross_rent</th>\n",
       "      <th>median_household_income</th>\n",
       "      <th>median_property_value</th>\n",
       "      <th>rent_burden</th>\n",
       "      <th>pct_white</th>\n",
       "      <th>pct_af_am</th>\n",
       "      <th>pct_hispanic</th>\n",
       "      <th>pct_am_ind</th>\n",
       "      <th>pct_asian</th>\n",
       "      <th>pct_nh_pi</th>\n",
       "      <th>pct_multiple</th>\n",
       "      <th>pct_other</th>\n",
       "      <th>eviction_filings</th>\n",
       "      <th>evictions</th>\n",
       "      <th>eviction_rate</th>\n",
       "      <th>eviction_filing_rate</th>\n",
       "    </tr>\n",
       "  </thead>\n",
       "  <tbody>\n",
       "    <tr>\n",
       "      <th>count</th>\n",
       "      <td>53,435.00</td>\n",
       "      <td>53,414.00</td>\n",
       "      <td>53,414.00</td>\n",
       "      <td>53,430.00</td>\n",
       "      <td>53,414.00</td>\n",
       "      <td>53,403.00</td>\n",
       "      <td>53,408.00</td>\n",
       "      <td>53,396.00</td>\n",
       "      <td>53,404.00</td>\n",
       "      <td>53,414.00</td>\n",
       "      <td>53,414.00</td>\n",
       "      <td>53,414.00</td>\n",
       "      <td>53,414.00</td>\n",
       "      <td>53,414.00</td>\n",
       "      <td>53,414.00</td>\n",
       "      <td>53,414.00</td>\n",
       "      <td>53,414.00</td>\n",
       "      <td>44,167.00</td>\n",
       "      <td>41,338.00</td>\n",
       "      <td>41,338.00</td>\n",
       "      <td>44,167.00</td>\n",
       "    </tr>\n",
       "    <tr>\n",
       "      <th>mean</th>\n",
       "      <td>2,008.00</td>\n",
       "      <td>95,896.38</td>\n",
       "      <td>12.53</td>\n",
       "      <td>12,741.01</td>\n",
       "      <td>27.32</td>\n",
       "      <td>596.17</td>\n",
       "      <td>42,399.47</td>\n",
       "      <td>117,873.02</td>\n",
       "      <td>26.76</td>\n",
       "      <td>79.10</td>\n",
       "      <td>8.78</td>\n",
       "      <td>7.63</td>\n",
       "      <td>1.78</td>\n",
       "      <td>1.07</td>\n",
       "      <td>0.08</td>\n",
       "      <td>1.47</td>\n",
       "      <td>0.09</td>\n",
       "      <td>835.53</td>\n",
       "      <td>373.98</td>\n",
       "      <td>1.68</td>\n",
       "      <td>3.01</td>\n",
       "    </tr>\n",
       "    <tr>\n",
       "      <th>std</th>\n",
       "      <td>4.90</td>\n",
       "      <td>309,640.49</td>\n",
       "      <td>6.09</td>\n",
       "      <td>50,849.04</td>\n",
       "      <td>8.01</td>\n",
       "      <td>199.36</td>\n",
       "      <td>12,085.51</td>\n",
       "      <td>77,538.04</td>\n",
       "      <td>4.77</td>\n",
       "      <td>19.59</td>\n",
       "      <td>14.40</td>\n",
       "      <td>12.88</td>\n",
       "      <td>7.38</td>\n",
       "      <td>2.43</td>\n",
       "      <td>0.75</td>\n",
       "      <td>1.55</td>\n",
       "      <td>0.16</td>\n",
       "      <td>4,278.98</td>\n",
       "      <td>1,542.80</td>\n",
       "      <td>1.98</td>\n",
       "      <td>4.92</td>\n",
       "    </tr>\n",
       "    <tr>\n",
       "      <th>min</th>\n",
       "      <td>2,000.00</td>\n",
       "      <td>67.00</td>\n",
       "      <td>0.00</td>\n",
       "      <td>5.00</td>\n",
       "      <td>7.35</td>\n",
       "      <td>178.00</td>\n",
       "      <td>9,333.00</td>\n",
       "      <td>0.00</td>\n",
       "      <td>8.10</td>\n",
       "      <td>0.95</td>\n",
       "      <td>0.00</td>\n",
       "      <td>0.00</td>\n",
       "      <td>0.00</td>\n",
       "      <td>0.00</td>\n",
       "      <td>0.00</td>\n",
       "      <td>0.00</td>\n",
       "      <td>0.00</td>\n",
       "      <td>0.00</td>\n",
       "      <td>0.00</td>\n",
       "      <td>0.00</td>\n",
       "      <td>0.00</td>\n",
       "    </tr>\n",
       "    <tr>\n",
       "      <th>25%</th>\n",
       "      <td>2,004.00</td>\n",
       "      <td>11,031.00</td>\n",
       "      <td>8.23</td>\n",
       "      <td>1,049.00</td>\n",
       "      <td>21.99</td>\n",
       "      <td>461.00</td>\n",
       "      <td>34,038.00</td>\n",
       "      <td>74,200.00</td>\n",
       "      <td>23.50</td>\n",
       "      <td>68.17</td>\n",
       "      <td>0.42</td>\n",
       "      <td>1.31</td>\n",
       "      <td>0.15</td>\n",
       "      <td>0.20</td>\n",
       "      <td>0.00</td>\n",
       "      <td>0.72</td>\n",
       "      <td>0.00</td>\n",
       "      <td>3.00</td>\n",
       "      <td>3.00</td>\n",
       "      <td>0.32</td>\n",
       "      <td>0.35</td>\n",
       "    </tr>\n",
       "    <tr>\n",
       "      <th>50%</th>\n",
       "      <td>2,008.00</td>\n",
       "      <td>25,421.00</td>\n",
       "      <td>11.52</td>\n",
       "      <td>2,552.00</td>\n",
       "      <td>25.94</td>\n",
       "      <td>570.00</td>\n",
       "      <td>40,674.00</td>\n",
       "      <td>96,000.00</td>\n",
       "      <td>26.70</td>\n",
       "      <td>86.54</td>\n",
       "      <td>1.93</td>\n",
       "      <td>2.78</td>\n",
       "      <td>0.28</td>\n",
       "      <td>0.44</td>\n",
       "      <td>0.01</td>\n",
       "      <td>1.14</td>\n",
       "      <td>0.04</td>\n",
       "      <td>30.00</td>\n",
       "      <td>25.00</td>\n",
       "      <td>1.11</td>\n",
       "      <td>1.45</td>\n",
       "    </tr>\n",
       "    <tr>\n",
       "      <th>75%</th>\n",
       "      <td>2,012.00</td>\n",
       "      <td>64,886.00</td>\n",
       "      <td>15.50</td>\n",
       "      <td>7,147.00</td>\n",
       "      <td>31.15</td>\n",
       "      <td>685.00</td>\n",
       "      <td>48,383.00</td>\n",
       "      <td>137,400.00</td>\n",
       "      <td>29.80</td>\n",
       "      <td>94.52</td>\n",
       "      <td>10.00</td>\n",
       "      <td>7.29</td>\n",
       "      <td>0.64</td>\n",
       "      <td>0.98</td>\n",
       "      <td>0.04</td>\n",
       "      <td>1.73</td>\n",
       "      <td>0.11</td>\n",
       "      <td>210.00</td>\n",
       "      <td>140.00</td>\n",
       "      <td>2.31</td>\n",
       "      <td>3.55</td>\n",
       "    </tr>\n",
       "    <tr>\n",
       "      <th>max</th>\n",
       "      <td>2,016.00</td>\n",
       "      <td>10,038,388.00</td>\n",
       "      <td>56.92</td>\n",
       "      <td>1,792,186.00</td>\n",
       "      <td>100.00</td>\n",
       "      <td>2,001.00</td>\n",
       "      <td>123,453.00</td>\n",
       "      <td>1,000,001.00</td>\n",
       "      <td>50.10</td>\n",
       "      <td>100.00</td>\n",
       "      <td>86.76</td>\n",
       "      <td>98.71</td>\n",
       "      <td>94.95</td>\n",
       "      <td>47.48</td>\n",
       "      <td>48.89</td>\n",
       "      <td>33.33</td>\n",
       "      <td>4.90</td>\n",
       "      <td>143,753.00</td>\n",
       "      <td>47,716.00</td>\n",
       "      <td>24.16</td>\n",
       "      <td>118.62</td>\n",
       "    </tr>\n",
       "  </tbody>\n",
       "</table>\n",
       "</div>"
      ],
      "text/plain": [
       "           year    population  poverty_rate  renter_occupied_households  \\\n",
       "count 53,435.00     53,414.00     53,414.00                   53,430.00   \n",
       "mean   2,008.00     95,896.38         12.53                   12,741.01   \n",
       "std        4.90    309,640.49          6.09                   50,849.04   \n",
       "min    2,000.00         67.00          0.00                        5.00   \n",
       "25%    2,004.00     11,031.00          8.23                    1,049.00   \n",
       "50%    2,008.00     25,421.00         11.52                    2,552.00   \n",
       "75%    2,012.00     64,886.00         15.50                    7,147.00   \n",
       "max    2,016.00 10,038,388.00         56.92                1,792,186.00   \n",
       "\n",
       "       pct_renter_occupied  median_gross_rent  median_household_income  \\\n",
       "count            53,414.00          53,403.00                53,408.00   \n",
       "mean                 27.32             596.17                42,399.47   \n",
       "std                   8.01             199.36                12,085.51   \n",
       "min                   7.35             178.00                 9,333.00   \n",
       "25%                  21.99             461.00                34,038.00   \n",
       "50%                  25.94             570.00                40,674.00   \n",
       "75%                  31.15             685.00                48,383.00   \n",
       "max                 100.00           2,001.00               123,453.00   \n",
       "\n",
       "       median_property_value  rent_burden  pct_white  pct_af_am  pct_hispanic  \\\n",
       "count              53,396.00    53,404.00  53,414.00  53,414.00     53,414.00   \n",
       "mean              117,873.02        26.76      79.10       8.78          7.63   \n",
       "std                77,538.04         4.77      19.59      14.40         12.88   \n",
       "min                     0.00         8.10       0.95       0.00          0.00   \n",
       "25%                74,200.00        23.50      68.17       0.42          1.31   \n",
       "50%                96,000.00        26.70      86.54       1.93          2.78   \n",
       "75%               137,400.00        29.80      94.52      10.00          7.29   \n",
       "max             1,000,001.00        50.10     100.00      86.76         98.71   \n",
       "\n",
       "       pct_am_ind  pct_asian  pct_nh_pi  pct_multiple  pct_other  \\\n",
       "count   53,414.00  53,414.00  53,414.00     53,414.00  53,414.00   \n",
       "mean         1.78       1.07       0.08          1.47       0.09   \n",
       "std          7.38       2.43       0.75          1.55       0.16   \n",
       "min          0.00       0.00       0.00          0.00       0.00   \n",
       "25%          0.15       0.20       0.00          0.72       0.00   \n",
       "50%          0.28       0.44       0.01          1.14       0.04   \n",
       "75%          0.64       0.98       0.04          1.73       0.11   \n",
       "max         94.95      47.48      48.89         33.33       4.90   \n",
       "\n",
       "       eviction_filings  evictions  eviction_rate  eviction_filing_rate  \n",
       "count         44,167.00  41,338.00      41,338.00             44,167.00  \n",
       "mean             835.53     373.98           1.68                  3.01  \n",
       "std            4,278.98   1,542.80           1.98                  4.92  \n",
       "min                0.00       0.00           0.00                  0.00  \n",
       "25%                3.00       3.00           0.32                  0.35  \n",
       "50%               30.00      25.00           1.11                  1.45  \n",
       "75%              210.00     140.00           2.31                  3.55  \n",
       "max          143,753.00  47,716.00          24.16                118.62  "
      ]
     },
     "execution_count": 11,
     "metadata": {},
     "output_type": "execute_result"
    }
   ],
   "source": [
    "#summary stats for numeric variables\n",
    "\n",
    "counties_us.describe()"
   ]
  },
  {
   "cell_type": "code",
   "execution_count": 12,
   "metadata": {},
   "outputs": [
    {
     "data": {
      "text/html": [
       "<div>\n",
       "<style scoped>\n",
       "    .dataframe tbody tr th:only-of-type {\n",
       "        vertical-align: middle;\n",
       "    }\n",
       "\n",
       "    .dataframe tbody tr th {\n",
       "        vertical-align: top;\n",
       "    }\n",
       "\n",
       "    .dataframe thead th {\n",
       "        text-align: right;\n",
       "    }\n",
       "</style>\n",
       "<table border=\"1\" class=\"dataframe\">\n",
       "  <thead>\n",
       "    <tr style=\"text-align: right;\">\n",
       "      <th></th>\n",
       "      <th>county</th>\n",
       "      <th>state</th>\n",
       "    </tr>\n",
       "  </thead>\n",
       "  <tbody>\n",
       "    <tr>\n",
       "      <th>count</th>\n",
       "      <td>53435</td>\n",
       "      <td>53435</td>\n",
       "    </tr>\n",
       "    <tr>\n",
       "      <th>unique</th>\n",
       "      <td>1878</td>\n",
       "      <td>51</td>\n",
       "    </tr>\n",
       "    <tr>\n",
       "      <th>top</th>\n",
       "      <td>Washington County</td>\n",
       "      <td>Texas</td>\n",
       "    </tr>\n",
       "    <tr>\n",
       "      <th>freq</th>\n",
       "      <td>510</td>\n",
       "      <td>4318</td>\n",
       "    </tr>\n",
       "  </tbody>\n",
       "</table>\n",
       "</div>"
      ],
      "text/plain": [
       "                   county  state\n",
       "count               53435  53435\n",
       "unique               1878     51\n",
       "top     Washington County  Texas\n",
       "freq                  510   4318"
      ]
     },
     "execution_count": 12,
     "metadata": {},
     "output_type": "execute_result"
    }
   ],
   "source": [
    "#summary stats for object type data\n",
    "\n",
    "counties_us.describe(include = 'object')"
   ]
  },
  {
   "cell_type": "code",
   "execution_count": 13,
   "metadata": {
    "scrolled": true
   },
   "outputs": [
    {
     "name": "stdout",
     "output_type": "stream",
     "text": [
      "<class 'pandas.core.frame.DataFrame'>\n",
      "RangeIndex: 53435 entries, 0 to 53434\n",
      "Data columns (total 23 columns):\n",
      "year                          53435 non-null int64\n",
      "county                        53435 non-null object\n",
      "state                         53435 non-null object\n",
      "population                    53414 non-null float64\n",
      "poverty_rate                  53414 non-null float64\n",
      "renter_occupied_households    53430 non-null float64\n",
      "pct_renter_occupied           53414 non-null float64\n",
      "median_gross_rent             53403 non-null float64\n",
      "median_household_income       53408 non-null float64\n",
      "median_property_value         53396 non-null float64\n",
      "rent_burden                   53404 non-null float64\n",
      "pct_white                     53414 non-null float64\n",
      "pct_af_am                     53414 non-null float64\n",
      "pct_hispanic                  53414 non-null float64\n",
      "pct_am_ind                    53414 non-null float64\n",
      "pct_asian                     53414 non-null float64\n",
      "pct_nh_pi                     53414 non-null float64\n",
      "pct_multiple                  53414 non-null float64\n",
      "pct_other                     53414 non-null float64\n",
      "eviction_filings              44167 non-null float64\n",
      "evictions                     41338 non-null float64\n",
      "eviction_rate                 41338 non-null float64\n",
      "eviction_filing_rate          44167 non-null float64\n",
      "dtypes: float64(20), int64(1), object(2)\n",
      "memory usage: 9.4+ MB\n"
     ]
    }
   ],
   "source": [
    "counties_us.info()"
   ]
  },
  {
   "cell_type": "code",
   "execution_count": 14,
   "metadata": {},
   "outputs": [
    {
     "data": {
      "text/plain": [
       "51"
      ]
     },
     "execution_count": 14,
     "metadata": {},
     "output_type": "execute_result"
    }
   ],
   "source": [
    "counties_us['state'].nunique()"
   ]
  },
  {
   "cell_type": "markdown",
   "metadata": {},
   "source": [
    "There are 51 labels in the states attribute, it is because the data also included the 'District of Columbia' - a federal district."
   ]
  },
  {
   "cell_type": "markdown",
   "metadata": {},
   "source": [
    "Exploratory Data Analysis\n",
    "--------"
   ]
  },
  {
   "cell_type": "markdown",
   "metadata": {},
   "source": [
    ">Missing Value Analysis\n",
    ">---------------"
   ]
  },
  {
   "cell_type": "markdown",
   "metadata": {},
   "source": [
    "Looking for null values"
   ]
  },
  {
   "cell_type": "code",
   "execution_count": 15,
   "metadata": {},
   "outputs": [
    {
     "data": {
      "text/plain": [
       "year                              0\n",
       "county                            0\n",
       "state                             0\n",
       "population                       21\n",
       "poverty_rate                     21\n",
       "renter_occupied_households        5\n",
       "pct_renter_occupied              21\n",
       "median_gross_rent                32\n",
       "median_household_income          27\n",
       "median_property_value            39\n",
       "rent_burden                      31\n",
       "pct_white                        21\n",
       "pct_af_am                        21\n",
       "pct_hispanic                     21\n",
       "pct_am_ind                       21\n",
       "pct_asian                        21\n",
       "pct_nh_pi                        21\n",
       "pct_multiple                     21\n",
       "pct_other                        21\n",
       "eviction_filings               9268\n",
       "evictions                     12097\n",
       "eviction_rate                 12097\n",
       "eviction_filing_rate           9268\n",
       "dtype: int64"
      ]
     },
     "execution_count": 15,
     "metadata": {},
     "output_type": "execute_result"
    }
   ],
   "source": [
    "counties_us.isnull().sum()"
   ]
  },
  {
   "cell_type": "markdown",
   "metadata": {},
   "source": [
    "From the above, we can see that the data has 12097 null values under the attribute 'evictions', 'eviction_filings', 'eviction_rate' and 'eviction_filing_rate'. And less than 50 missing values under all other attributes except year, county and state attributes."
   ]
  },
  {
   "cell_type": "code",
   "execution_count": 16,
   "metadata": {},
   "outputs": [
    {
     "data": {
      "text/plain": [
       "year                          0.00\n",
       "county                        0.00\n",
       "state                         0.00\n",
       "population                    0.04\n",
       "poverty_rate                  0.04\n",
       "renter_occupied_households    0.01\n",
       "pct_renter_occupied           0.04\n",
       "median_gross_rent             0.06\n",
       "median_household_income       0.05\n",
       "median_property_value         0.07\n",
       "rent_burden                   0.06\n",
       "pct_white                     0.04\n",
       "pct_af_am                     0.04\n",
       "pct_hispanic                  0.04\n",
       "pct_am_ind                    0.04\n",
       "pct_asian                     0.04\n",
       "pct_nh_pi                     0.04\n",
       "pct_multiple                  0.04\n",
       "pct_other                     0.04\n",
       "eviction_filings             17.34\n",
       "evictions                    22.64\n",
       "eviction_rate                22.64\n",
       "eviction_filing_rate         17.34\n",
       "dtype: float64"
      ]
     },
     "execution_count": 16,
     "metadata": {},
     "output_type": "execute_result"
    }
   ],
   "source": [
    "(counties_us.isnull().sum()/counties_us.shape[0] *100).round(2)"
   ]
  },
  {
   "cell_type": "markdown",
   "metadata": {},
   "source": [
    "The above gives us the understanding of the portion of missing values under each attribute in %'s.\n",
    ">Only 'evictions', 'eviction_filings', 'eviction_rate' and 'eviction_filing_rate' has around 17% - 23% of missing values and the remaining have negligible missing value portion. "
   ]
  },
  {
   "cell_type": "markdown",
   "metadata": {},
   "source": [
    "Handling Missing Values:\n",
    ">> 'evictions' is the target variable, so we are not going to impute the missing values in this.\n",
    ">>> lets drop the rows with missing values in 'evictions'.\n",
    "\n",
    ">> All other attribute have negligible percentage of missing values. \n",
    ">>>So we can drop them, that wont be effecting our study."
   ]
  },
  {
   "cell_type": "code",
   "execution_count": 17,
   "metadata": {},
   "outputs": [
    {
     "data": {
      "text/plain": [
       "(53435, 23)"
      ]
     },
     "execution_count": 17,
     "metadata": {},
     "output_type": "execute_result"
    }
   ],
   "source": [
    "counties_us.shape"
   ]
  },
  {
   "cell_type": "code",
   "execution_count": 18,
   "metadata": {},
   "outputs": [],
   "source": [
    "counties_us.dropna(how = 'any', inplace = True)"
   ]
  },
  {
   "cell_type": "code",
   "execution_count": 19,
   "metadata": {},
   "outputs": [
    {
     "data": {
      "text/plain": [
       "(41298, 23)"
      ]
     },
     "execution_count": 19,
     "metadata": {},
     "output_type": "execute_result"
    }
   ],
   "source": [
    "counties_us.shape"
   ]
  },
  {
   "cell_type": "code",
   "execution_count": 20,
   "metadata": {
    "scrolled": true
   },
   "outputs": [
    {
     "data": {
      "text/plain": [
       "year                         0.00\n",
       "county                       0.00\n",
       "state                        0.00\n",
       "population                   0.00\n",
       "poverty_rate                 0.00\n",
       "renter_occupied_households   0.00\n",
       "pct_renter_occupied          0.00\n",
       "median_gross_rent            0.00\n",
       "median_household_income      0.00\n",
       "median_property_value        0.00\n",
       "rent_burden                  0.00\n",
       "pct_white                    0.00\n",
       "pct_af_am                    0.00\n",
       "pct_hispanic                 0.00\n",
       "pct_am_ind                   0.00\n",
       "pct_asian                    0.00\n",
       "pct_nh_pi                    0.00\n",
       "pct_multiple                 0.00\n",
       "pct_other                    0.00\n",
       "eviction_filings             0.00\n",
       "evictions                    0.00\n",
       "eviction_rate                0.00\n",
       "eviction_filing_rate         0.00\n",
       "dtype: float64"
      ]
     },
     "execution_count": 20,
     "metadata": {},
     "output_type": "execute_result"
    }
   ],
   "source": [
    "(counties_us.isnull().sum()/counties_us.shape[0] *100).round(2)"
   ]
  },
  {
   "cell_type": "markdown",
   "metadata": {},
   "source": [
    "Now, we dont have missing values in our data."
   ]
  },
  {
   "cell_type": "markdown",
   "metadata": {},
   "source": [
    ">Outlier Analysis\n",
    ">----"
   ]
  },
  {
   "cell_type": "code",
   "execution_count": 21,
   "metadata": {
    "scrolled": false
   },
   "outputs": [
    {
     "name": "stderr",
     "output_type": "stream",
     "text": [
      "C:\\Users\\veere\\Miniconda3\\lib\\site-packages\\ipykernel_launcher.py:3: RuntimeWarning: More than 20 figures have been opened. Figures created through the pyplot interface (`matplotlib.pyplot.figure`) are retained until explicitly closed and may consume too much memory. (To control this warning, see the rcParam `figure.max_open_warning`).\n",
      "  This is separate from the ipykernel package so we can avoid doing imports until\n"
     ]
    },
    {
     "data": {
      "image/png": "[encoded data removed]",
      "text/plain": [
       "<Figure size 432x288 with 1 Axes>"
      ]
     },
     "metadata": {
      "needs_background": "light"
     },
     "output_type": "display_data"
    },
    {
     "data": {
      "image/png": "[encoded data removed]",
      "text/plain": [
       "<Figure size 432x288 with 1 Axes>"
      ]
     },
     "metadata": {
      "needs_background": "light"
     },
     "output_type": "display_data"
    },
    {
     "data": {
      "image/png": "[encoded data removed]",
      "text/plain": [
       "<Figure size 432x288 with 1 Axes>"
      ]
     },
     "metadata": {
      "needs_background": "light"
     },
     "output_type": "display_data"
    },
    {
     "data": {
      "image/png": "[encoded data removed]",
      "text/plain": [
       "<Figure size 432x288 with 1 Axes>"
      ]
     },
     "metadata": {
      "needs_background": "light"
     },
     "output_type": "display_data"
    },
    {
     "data": {
      "image/png": "[encoded data removed]",
      "text/plain": [
       "<Figure size 432x288 with 1 Axes>"
      ]
     },
     "metadata": {
      "needs_background": "light"
     },
     "output_type": "display_data"
    },
    {
     "data": {
      "image/png": "[encoded data removed]",
      "text/plain": [
       "<Figure size 432x288 with 1 Axes>"
      ]
     },
     "metadata": {
      "needs_background": "light"
     },
     "output_type": "display_data"
    },
    {
     "data": {
      "image/png": "[encoded data removed]",
      "text/plain": [
       "<Figure size 432x288 with 1 Axes>"
      ]
     },
     "metadata": {
      "needs_background": "light"
     },
     "output_type": "display_data"
    },
    {
     "data": {
      "image/png": "[encoded data removed]",
      "text/plain": [
       "<Figure size 432x288 with 1 Axes>"
      ]
     },
     "metadata": {
      "needs_background": "light"
     },
     "output_type": "display_data"
    },
    {
     "data": {
      "image/png": "[encoded data removed]",
      "text/plain": [
       "<Figure size 432x288 with 1 Axes>"
      ]
     },
     "metadata": {
      "needs_background": "light"
     },
     "output_type": "display_data"
    },
    {
     "data": {
      "image/png": "[encoded data removed]",
      "text/plain": [
       "<Figure size 432x288 with 1 Axes>"
      ]
     },
     "metadata": {
      "needs_background": "light"
     },
     "output_type": "display_data"
    },
    {
     "data": {
      "image/png": "[encoded data removed]",
      "text/plain": [
       "<Figure size 432x288 with 1 Axes>"
      ]
     },
     "metadata": {
      "needs_background": "light"
     },
     "output_type": "display_data"
    },
    {
     "data": {
      "image/png": "[encoded data removed]",
      "text/plain": [
       "<Figure size 432x288 with 1 Axes>"
      ]
     },
     "metadata": {
      "needs_background": "light"
     },
     "output_type": "display_data"
    },
    {
     "data": {
      "image/png": "[encoded data removed]",
      "text/plain": [
       "<Figure size 432x288 with 1 Axes>"
      ]
     },
     "metadata": {
      "needs_background": "light"
     },
     "output_type": "display_data"
    },
    {
     "data": {
      "image/png": "[encoded data removed]",
      "text/plain": [
       "<Figure size 432x288 with 1 Axes>"
      ]
     },
     "metadata": {
      "needs_background": "light"
     },
     "output_type": "display_data"
    },
    {
     "data": {
      "image/png": "[encoded data removed]",
      "text/plain": [
       "<Figure size 432x288 with 1 Axes>"
      ]
     },
     "metadata": {
      "needs_background": "light"
     },
     "output_type": "display_data"
    },
    {
     "data": {
      "image/png": "[encoded data removed]",
      "text/plain": [
       "<Figure size 432x288 with 1 Axes>"
      ]
     },
     "metadata": {
      "needs_background": "light"
     },
     "output_type": "display_data"
    },
    {
     "data": {
      "image/png": "[encoded data removed]",
      "text/plain": [
       "<Figure size 432x288 with 1 Axes>"
      ]
     },
     "metadata": {
      "needs_background": "light"
     },
     "output_type": "display_data"
    },
    {
     "data": {
      "image/png": "[encoded data removed]",
      "text/plain": [
       "<Figure size 432x288 with 1 Axes>"
      ]
     },
     "metadata": {
      "needs_background": "light"
     },
     "output_type": "display_data"
    },
    {
     "data": {
      "image/png": "[encoded data removed]",
      "text/plain": [
       "<Figure size 432x288 with 1 Axes>"
      ]
     },
     "metadata": {
      "needs_background": "light"
     },
     "output_type": "display_data"
    },
    {
     "data": {
      "image/png": "[encoded data removed]",
      "text/plain": [
       "<Figure size 432x288 with 1 Axes>"
      ]
     },
     "metadata": {
      "needs_background": "light"
     },
     "output_type": "display_data"
    },
    {
     "data": {
      "image/png": "[encoded data removed]",
      "text/plain": [
       "<Figure size 432x288 with 1 Axes>"
      ]
     },
     "metadata": {
      "needs_background": "light"
     },
     "output_type": "display_data"
    }
   ],
   "source": [
    "num_col = ['year','population','poverty_rate','renter_occupied_households','pct_renter_occupied',\\\n",
    "           'median_gross_rent','median_household_income','median_property_value','rent_burden',\\\n",
    "           'pct_white','pct_af_am','pct_hispanic','pct_am_ind','pct_asian','pct_nh_pi','pct_multiple',\\\n",
    "           'pct_other','evictions','eviction_filings', 'eviction_rate', 'eviction_filing_rate']\n",
    "for col in num_col:\n",
    "    plt.figure()\n",
    "    counties_us.boxplot([col])"
   ]
  },
  {
   "cell_type": "markdown",
   "metadata": {},
   "source": [
    "As, we see the boxplot shows that almost all numeric_attributes have outliers in them."
   ]
  },
  {
   "cell_type": "markdown",
   "metadata": {},
   "source": [
    "Outliers Treatement:"
   ]
  },
  {
   "cell_type": "code",
   "execution_count": 22,
   "metadata": {},
   "outputs": [],
   "source": [
    "#This function will take dataframe name, the col name for which you want to \\n\n",
    "# check outlier and will return the rows of the df which are outliers\n",
    "def outlier(df, x):\n",
    "    #x = input(\"col name:\")\n",
    "    q1 = df[x].quantile(.25)\n",
    "    q3 = df[x].quantile(.75)\n",
    "    iqr = q3 - q1\n",
    "    max_lim = q3 + 1.5*iqr\n",
    "    min_lim = q1 - 1.5*iqr\n",
    "    print('Q1 = ', q1)\n",
    "    print('Q2 = ', np.median(df[x]))\n",
    "    print('Q3 = ', q3)\n",
    "    print(\"max_lim =\", max_lim)\n",
    "    print(\"min_lim =\", min_lim)\n",
    "    return df[(df[x] > max_lim)| (df[x] < min_lim)]"
   ]
  },
  {
   "cell_type": "code",
   "execution_count": 23,
   "metadata": {},
   "outputs": [
    {
     "name": "stdout",
     "output_type": "stream",
     "text": [
      "Q1 =  10445.0\n",
      "Q2 =  23511.0\n",
      "Q3 =  62683.0\n",
      "max_lim = 141040.0\n",
      "min_lim = -67912.0\n"
     ]
    },
    {
     "data": {
      "text/html": [
       "<div>\n",
       "<style scoped>\n",
       "    .dataframe tbody tr th:only-of-type {\n",
       "        vertical-align: middle;\n",
       "    }\n",
       "\n",
       "    .dataframe tbody tr th {\n",
       "        vertical-align: top;\n",
       "    }\n",
       "\n",
       "    .dataframe thead th {\n",
       "        text-align: right;\n",
       "    }\n",
       "</style>\n",
       "<table border=\"1\" class=\"dataframe\">\n",
       "  <thead>\n",
       "    <tr style=\"text-align: right;\">\n",
       "      <th></th>\n",
       "      <th>year</th>\n",
       "      <th>county</th>\n",
       "      <th>state</th>\n",
       "      <th>population</th>\n",
       "      <th>poverty_rate</th>\n",
       "      <th>renter_occupied_households</th>\n",
       "      <th>pct_renter_occupied</th>\n",
       "      <th>median_gross_rent</th>\n",
       "      <th>median_household_income</th>\n",
       "      <th>median_property_value</th>\n",
       "      <th>rent_burden</th>\n",
       "      <th>pct_white</th>\n",
       "      <th>pct_af_am</th>\n",
       "      <th>pct_hispanic</th>\n",
       "      <th>pct_am_ind</th>\n",
       "      <th>pct_asian</th>\n",
       "      <th>pct_nh_pi</th>\n",
       "      <th>pct_multiple</th>\n",
       "      <th>pct_other</th>\n",
       "      <th>eviction_filings</th>\n",
       "      <th>evictions</th>\n",
       "      <th>eviction_rate</th>\n",
       "      <th>eviction_filing_rate</th>\n",
       "    </tr>\n",
       "  </thead>\n",
       "  <tbody>\n",
       "    <tr>\n",
       "      <th>513</th>\n",
       "      <td>2005</td>\n",
       "      <td>Baldwin County</td>\n",
       "      <td>Alabama</td>\n",
       "      <td>171,997.00</td>\n",
       "      <td>8.84</td>\n",
       "      <td>15,715.00</td>\n",
       "      <td>22.54</td>\n",
       "      <td>788.00</td>\n",
       "      <td>48,918.00</td>\n",
       "      <td>173,100.00</td>\n",
       "      <td>29.60</td>\n",
       "      <td>85.11</td>\n",
       "      <td>9.80</td>\n",
       "      <td>2.90</td>\n",
       "      <td>0.56</td>\n",
       "      <td>0.57</td>\n",
       "      <td>0.00</td>\n",
       "      <td>0.99</td>\n",
       "      <td>0.07</td>\n",
       "      <td>500.00</td>\n",
       "      <td>268.00</td>\n",
       "      <td>1.71</td>\n",
       "      <td>3.18</td>\n",
       "    </tr>\n",
       "    <tr>\n",
       "      <th>514</th>\n",
       "      <td>2006</td>\n",
       "      <td>Baldwin County</td>\n",
       "      <td>Alabama</td>\n",
       "      <td>171,997.00</td>\n",
       "      <td>8.84</td>\n",
       "      <td>16,593.00</td>\n",
       "      <td>22.54</td>\n",
       "      <td>788.00</td>\n",
       "      <td>48,918.00</td>\n",
       "      <td>173,100.00</td>\n",
       "      <td>29.60</td>\n",
       "      <td>85.11</td>\n",
       "      <td>9.80</td>\n",
       "      <td>2.90</td>\n",
       "      <td>0.56</td>\n",
       "      <td>0.57</td>\n",
       "      <td>0.00</td>\n",
       "      <td>0.99</td>\n",
       "      <td>0.07</td>\n",
       "      <td>512.00</td>\n",
       "      <td>253.00</td>\n",
       "      <td>1.52</td>\n",
       "      <td>3.09</td>\n",
       "    </tr>\n",
       "    <tr>\n",
       "      <th>515</th>\n",
       "      <td>2007</td>\n",
       "      <td>Baldwin County</td>\n",
       "      <td>Alabama</td>\n",
       "      <td>171,997.00</td>\n",
       "      <td>8.84</td>\n",
       "      <td>17,472.00</td>\n",
       "      <td>22.54</td>\n",
       "      <td>788.00</td>\n",
       "      <td>48,918.00</td>\n",
       "      <td>173,100.00</td>\n",
       "      <td>29.60</td>\n",
       "      <td>85.11</td>\n",
       "      <td>9.80</td>\n",
       "      <td>2.90</td>\n",
       "      <td>0.56</td>\n",
       "      <td>0.57</td>\n",
       "      <td>0.00</td>\n",
       "      <td>0.99</td>\n",
       "      <td>0.07</td>\n",
       "      <td>605.00</td>\n",
       "      <td>392.00</td>\n",
       "      <td>2.24</td>\n",
       "      <td>3.46</td>\n",
       "    </tr>\n",
       "    <tr>\n",
       "      <th>516</th>\n",
       "      <td>2008</td>\n",
       "      <td>Baldwin County</td>\n",
       "      <td>Alabama</td>\n",
       "      <td>171,997.00</td>\n",
       "      <td>8.84</td>\n",
       "      <td>18,351.00</td>\n",
       "      <td>22.54</td>\n",
       "      <td>788.00</td>\n",
       "      <td>48,918.00</td>\n",
       "      <td>173,100.00</td>\n",
       "      <td>29.60</td>\n",
       "      <td>85.11</td>\n",
       "      <td>9.80</td>\n",
       "      <td>2.90</td>\n",
       "      <td>0.56</td>\n",
       "      <td>0.57</td>\n",
       "      <td>0.00</td>\n",
       "      <td>0.99</td>\n",
       "      <td>0.07</td>\n",
       "      <td>671.00</td>\n",
       "      <td>438.00</td>\n",
       "      <td>2.39</td>\n",
       "      <td>3.66</td>\n",
       "    </tr>\n",
       "    <tr>\n",
       "      <th>517</th>\n",
       "      <td>2009</td>\n",
       "      <td>Baldwin County</td>\n",
       "      <td>Alabama</td>\n",
       "      <td>171,997.00</td>\n",
       "      <td>8.84</td>\n",
       "      <td>19,230.00</td>\n",
       "      <td>22.54</td>\n",
       "      <td>788.00</td>\n",
       "      <td>48,918.00</td>\n",
       "      <td>173,100.00</td>\n",
       "      <td>29.60</td>\n",
       "      <td>85.11</td>\n",
       "      <td>9.80</td>\n",
       "      <td>2.90</td>\n",
       "      <td>0.56</td>\n",
       "      <td>0.57</td>\n",
       "      <td>0.00</td>\n",
       "      <td>0.99</td>\n",
       "      <td>0.07</td>\n",
       "      <td>626.00</td>\n",
       "      <td>360.00</td>\n",
       "      <td>1.87</td>\n",
       "      <td>3.26</td>\n",
       "    </tr>\n",
       "    <tr>\n",
       "      <th>...</th>\n",
       "      <td>...</td>\n",
       "      <td>...</td>\n",
       "      <td>...</td>\n",
       "      <td>...</td>\n",
       "      <td>...</td>\n",
       "      <td>...</td>\n",
       "      <td>...</td>\n",
       "      <td>...</td>\n",
       "      <td>...</td>\n",
       "      <td>...</td>\n",
       "      <td>...</td>\n",
       "      <td>...</td>\n",
       "      <td>...</td>\n",
       "      <td>...</td>\n",
       "      <td>...</td>\n",
       "      <td>...</td>\n",
       "      <td>...</td>\n",
       "      <td>...</td>\n",
       "      <td>...</td>\n",
       "      <td>...</td>\n",
       "      <td>...</td>\n",
       "      <td>...</td>\n",
       "      <td>...</td>\n",
       "    </tr>\n",
       "    <tr>\n",
       "      <th>53022</th>\n",
       "      <td>2012</td>\n",
       "      <td>Winnebago County</td>\n",
       "      <td>Wisconsin</td>\n",
       "      <td>169,004.00</td>\n",
       "      <td>6.74</td>\n",
       "      <td>23,516.00</td>\n",
       "      <td>34.88</td>\n",
       "      <td>678.00</td>\n",
       "      <td>52,018.00</td>\n",
       "      <td>143,100.00</td>\n",
       "      <td>26.50</td>\n",
       "      <td>89.74</td>\n",
       "      <td>1.94</td>\n",
       "      <td>3.82</td>\n",
       "      <td>0.57</td>\n",
       "      <td>2.43</td>\n",
       "      <td>0.03</td>\n",
       "      <td>1.44</td>\n",
       "      <td>0.04</td>\n",
       "      <td>731.00</td>\n",
       "      <td>493.00</td>\n",
       "      <td>2.10</td>\n",
       "      <td>3.11</td>\n",
       "    </tr>\n",
       "    <tr>\n",
       "      <th>53023</th>\n",
       "      <td>2013</td>\n",
       "      <td>Winnebago County</td>\n",
       "      <td>Wisconsin</td>\n",
       "      <td>169,004.00</td>\n",
       "      <td>6.74</td>\n",
       "      <td>23,855.00</td>\n",
       "      <td>34.88</td>\n",
       "      <td>678.00</td>\n",
       "      <td>52,018.00</td>\n",
       "      <td>143,100.00</td>\n",
       "      <td>26.50</td>\n",
       "      <td>89.74</td>\n",
       "      <td>1.94</td>\n",
       "      <td>3.82</td>\n",
       "      <td>0.57</td>\n",
       "      <td>2.43</td>\n",
       "      <td>0.03</td>\n",
       "      <td>1.44</td>\n",
       "      <td>0.04</td>\n",
       "      <td>748.00</td>\n",
       "      <td>525.00</td>\n",
       "      <td>2.20</td>\n",
       "      <td>3.14</td>\n",
       "    </tr>\n",
       "    <tr>\n",
       "      <th>53024</th>\n",
       "      <td>2014</td>\n",
       "      <td>Winnebago County</td>\n",
       "      <td>Wisconsin</td>\n",
       "      <td>169,004.00</td>\n",
       "      <td>6.74</td>\n",
       "      <td>24,194.00</td>\n",
       "      <td>34.88</td>\n",
       "      <td>678.00</td>\n",
       "      <td>52,018.00</td>\n",
       "      <td>143,100.00</td>\n",
       "      <td>26.50</td>\n",
       "      <td>89.74</td>\n",
       "      <td>1.94</td>\n",
       "      <td>3.82</td>\n",
       "      <td>0.57</td>\n",
       "      <td>2.43</td>\n",
       "      <td>0.03</td>\n",
       "      <td>1.44</td>\n",
       "      <td>0.04</td>\n",
       "      <td>692.00</td>\n",
       "      <td>466.00</td>\n",
       "      <td>1.93</td>\n",
       "      <td>2.86</td>\n",
       "    </tr>\n",
       "    <tr>\n",
       "      <th>53025</th>\n",
       "      <td>2015</td>\n",
       "      <td>Winnebago County</td>\n",
       "      <td>Wisconsin</td>\n",
       "      <td>169,004.00</td>\n",
       "      <td>6.74</td>\n",
       "      <td>24,532.00</td>\n",
       "      <td>34.88</td>\n",
       "      <td>678.00</td>\n",
       "      <td>52,018.00</td>\n",
       "      <td>143,100.00</td>\n",
       "      <td>26.50</td>\n",
       "      <td>89.74</td>\n",
       "      <td>1.94</td>\n",
       "      <td>3.82</td>\n",
       "      <td>0.57</td>\n",
       "      <td>2.43</td>\n",
       "      <td>0.03</td>\n",
       "      <td>1.44</td>\n",
       "      <td>0.04</td>\n",
       "      <td>649.00</td>\n",
       "      <td>432.00</td>\n",
       "      <td>1.76</td>\n",
       "      <td>2.65</td>\n",
       "    </tr>\n",
       "    <tr>\n",
       "      <th>53026</th>\n",
       "      <td>2016</td>\n",
       "      <td>Winnebago County</td>\n",
       "      <td>Wisconsin</td>\n",
       "      <td>169,004.00</td>\n",
       "      <td>6.74</td>\n",
       "      <td>24,871.00</td>\n",
       "      <td>34.88</td>\n",
       "      <td>678.00</td>\n",
       "      <td>52,018.00</td>\n",
       "      <td>143,100.00</td>\n",
       "      <td>26.50</td>\n",
       "      <td>89.74</td>\n",
       "      <td>1.94</td>\n",
       "      <td>3.82</td>\n",
       "      <td>0.57</td>\n",
       "      <td>2.43</td>\n",
       "      <td>0.03</td>\n",
       "      <td>1.44</td>\n",
       "      <td>0.04</td>\n",
       "      <td>630.00</td>\n",
       "      <td>464.00</td>\n",
       "      <td>1.87</td>\n",
       "      <td>2.53</td>\n",
       "    </tr>\n",
       "  </tbody>\n",
       "</table>\n",
       "<p>5484 rows × 23 columns</p>\n",
       "</div>"
      ],
      "text/plain": [
       "       year            county      state  population  poverty_rate  \\\n",
       "513    2005    Baldwin County    Alabama  171,997.00          8.84   \n",
       "514    2006    Baldwin County    Alabama  171,997.00          8.84   \n",
       "515    2007    Baldwin County    Alabama  171,997.00          8.84   \n",
       "516    2008    Baldwin County    Alabama  171,997.00          8.84   \n",
       "517    2009    Baldwin County    Alabama  171,997.00          8.84   \n",
       "...     ...               ...        ...         ...           ...   \n",
       "53022  2012  Winnebago County  Wisconsin  169,004.00          6.74   \n",
       "53023  2013  Winnebago County  Wisconsin  169,004.00          6.74   \n",
       "53024  2014  Winnebago County  Wisconsin  169,004.00          6.74   \n",
       "53025  2015  Winnebago County  Wisconsin  169,004.00          6.74   \n",
       "53026  2016  Winnebago County  Wisconsin  169,004.00          6.74   \n",
       "\n",
       "       renter_occupied_households  pct_renter_occupied  median_gross_rent  \\\n",
       "513                     15,715.00                22.54             788.00   \n",
       "514                     16,593.00                22.54             788.00   \n",
       "515                     17,472.00                22.54             788.00   \n",
       "516                     18,351.00                22.54             788.00   \n",
       "517                     19,230.00                22.54             788.00   \n",
       "...                           ...                  ...                ...   \n",
       "53022                   23,516.00                34.88             678.00   \n",
       "53023                   23,855.00                34.88             678.00   \n",
       "53024                   24,194.00                34.88             678.00   \n",
       "53025                   24,532.00                34.88             678.00   \n",
       "53026                   24,871.00                34.88             678.00   \n",
       "\n",
       "       median_household_income  median_property_value  rent_burden  pct_white  \\\n",
       "513                  48,918.00             173,100.00        29.60      85.11   \n",
       "514                  48,918.00             173,100.00        29.60      85.11   \n",
       "515                  48,918.00             173,100.00        29.60      85.11   \n",
       "516                  48,918.00             173,100.00        29.60      85.11   \n",
       "517                  48,918.00             173,100.00        29.60      85.11   \n",
       "...                        ...                    ...          ...        ...   \n",
       "53022                52,018.00             143,100.00        26.50      89.74   \n",
       "53023                52,018.00             143,100.00        26.50      89.74   \n",
       "53024                52,018.00             143,100.00        26.50      89.74   \n",
       "53025                52,018.00             143,100.00        26.50      89.74   \n",
       "53026                52,018.00             143,100.00        26.50      89.74   \n",
       "\n",
       "       pct_af_am  pct_hispanic  pct_am_ind  pct_asian  pct_nh_pi  \\\n",
       "513         9.80          2.90        0.56       0.57       0.00   \n",
       "514         9.80          2.90        0.56       0.57       0.00   \n",
       "515         9.80          2.90        0.56       0.57       0.00   \n",
       "516         9.80          2.90        0.56       0.57       0.00   \n",
       "517         9.80          2.90        0.56       0.57       0.00   \n",
       "...          ...           ...         ...        ...        ...   \n",
       "53022       1.94          3.82        0.57       2.43       0.03   \n",
       "53023       1.94          3.82        0.57       2.43       0.03   \n",
       "53024       1.94          3.82        0.57       2.43       0.03   \n",
       "53025       1.94          3.82        0.57       2.43       0.03   \n",
       "53026       1.94          3.82        0.57       2.43       0.03   \n",
       "\n",
       "       pct_multiple  pct_other  eviction_filings  evictions  eviction_rate  \\\n",
       "513            0.99       0.07            500.00     268.00           1.71   \n",
       "514            0.99       0.07            512.00     253.00           1.52   \n",
       "515            0.99       0.07            605.00     392.00           2.24   \n",
       "516            0.99       0.07            671.00     438.00           2.39   \n",
       "517            0.99       0.07            626.00     360.00           1.87   \n",
       "...             ...        ...               ...        ...            ...   \n",
       "53022          1.44       0.04            731.00     493.00           2.10   \n",
       "53023          1.44       0.04            748.00     525.00           2.20   \n",
       "53024          1.44       0.04            692.00     466.00           1.93   \n",
       "53025          1.44       0.04            649.00     432.00           1.76   \n",
       "53026          1.44       0.04            630.00     464.00           1.87   \n",
       "\n",
       "       eviction_filing_rate  \n",
       "513                    3.18  \n",
       "514                    3.09  \n",
       "515                    3.46  \n",
       "516                    3.66  \n",
       "517                    3.26  \n",
       "...                     ...  \n",
       "53022                  3.11  \n",
       "53023                  3.14  \n",
       "53024                  2.86  \n",
       "53025                  2.65  \n",
       "53026                  2.53  \n",
       "\n",
       "[5484 rows x 23 columns]"
      ]
     },
     "execution_count": 23,
     "metadata": {},
     "output_type": "execute_result"
    }
   ],
   "source": [
    "#Population\n",
    "\n",
    "outlier(counties_us, 'population')"
   ]
  },
  {
   "cell_type": "markdown",
   "metadata": {},
   "source": [
    "We have 5484 rows with outliers under 'population' attribute. We can understand that some places which are developed might have high population compared to other small towns, this can explain the outliers under population column. \n",
    "\n",
    ">And these population values are true values. Reference : https://www.census.gov/quickfacts/kanawhacountywestvirginia\n",
    "\n",
    "So, we dont treate these as outliers."
   ]
  },
  {
   "cell_type": "code",
   "execution_count": 24,
   "metadata": {},
   "outputs": [
    {
     "name": "stdout",
     "output_type": "stream",
     "text": [
      "Q1 =  8.3\n",
      "Q2 =  11.46\n",
      "Q3 =  15.3175\n",
      "max_lim = 25.84375\n",
      "min_lim = -2.2262500000000003\n"
     ]
    },
    {
     "data": {
      "text/html": [
       "<div>\n",
       "<style scoped>\n",
       "    .dataframe tbody tr th:only-of-type {\n",
       "        vertical-align: middle;\n",
       "    }\n",
       "\n",
       "    .dataframe tbody tr th {\n",
       "        vertical-align: top;\n",
       "    }\n",
       "\n",
       "    .dataframe thead th {\n",
       "        text-align: right;\n",
       "    }\n",
       "</style>\n",
       "<table border=\"1\" class=\"dataframe\">\n",
       "  <thead>\n",
       "    <tr style=\"text-align: right;\">\n",
       "      <th></th>\n",
       "      <th>year</th>\n",
       "      <th>county</th>\n",
       "      <th>state</th>\n",
       "      <th>population</th>\n",
       "      <th>poverty_rate</th>\n",
       "      <th>renter_occupied_households</th>\n",
       "      <th>pct_renter_occupied</th>\n",
       "      <th>median_gross_rent</th>\n",
       "      <th>median_household_income</th>\n",
       "      <th>median_property_value</th>\n",
       "      <th>rent_burden</th>\n",
       "      <th>pct_white</th>\n",
       "      <th>pct_af_am</th>\n",
       "      <th>pct_hispanic</th>\n",
       "      <th>pct_am_ind</th>\n",
       "      <th>pct_asian</th>\n",
       "      <th>pct_nh_pi</th>\n",
       "      <th>pct_multiple</th>\n",
       "      <th>pct_other</th>\n",
       "      <th>eviction_filings</th>\n",
       "      <th>evictions</th>\n",
       "      <th>eviction_rate</th>\n",
       "      <th>eviction_filing_rate</th>\n",
       "    </tr>\n",
       "  </thead>\n",
       "  <tbody>\n",
       "    <tr>\n",
       "      <th>525</th>\n",
       "      <td>2000</td>\n",
       "      <td>Barbour County</td>\n",
       "      <td>Alabama</td>\n",
       "      <td>29,038.00</td>\n",
       "      <td>26.80</td>\n",
       "      <td>2,797.00</td>\n",
       "      <td>26.87</td>\n",
       "      <td>333.00</td>\n",
       "      <td>25,101.00</td>\n",
       "      <td>68,600.00</td>\n",
       "      <td>25.10</td>\n",
       "      <td>50.93</td>\n",
       "      <td>46.04</td>\n",
       "      <td>1.65</td>\n",
       "      <td>0.41</td>\n",
       "      <td>0.29</td>\n",
       "      <td>0.02</td>\n",
       "      <td>0.66</td>\n",
       "      <td>0.01</td>\n",
       "      <td>15.00</td>\n",
       "      <td>11.00</td>\n",
       "      <td>0.39</td>\n",
       "      <td>0.54</td>\n",
       "    </tr>\n",
       "    <tr>\n",
       "      <th>526</th>\n",
       "      <td>2001</td>\n",
       "      <td>Barbour County</td>\n",
       "      <td>Alabama</td>\n",
       "      <td>29,038.00</td>\n",
       "      <td>26.80</td>\n",
       "      <td>2,844.00</td>\n",
       "      <td>26.87</td>\n",
       "      <td>333.00</td>\n",
       "      <td>25,101.00</td>\n",
       "      <td>68,600.00</td>\n",
       "      <td>25.10</td>\n",
       "      <td>50.93</td>\n",
       "      <td>46.04</td>\n",
       "      <td>1.65</td>\n",
       "      <td>0.41</td>\n",
       "      <td>0.29</td>\n",
       "      <td>0.02</td>\n",
       "      <td>0.66</td>\n",
       "      <td>0.01</td>\n",
       "      <td>37.00</td>\n",
       "      <td>10.00</td>\n",
       "      <td>0.35</td>\n",
       "      <td>1.30</td>\n",
       "    </tr>\n",
       "    <tr>\n",
       "      <th>527</th>\n",
       "      <td>2002</td>\n",
       "      <td>Barbour County</td>\n",
       "      <td>Alabama</td>\n",
       "      <td>29,038.00</td>\n",
       "      <td>26.80</td>\n",
       "      <td>2,890.00</td>\n",
       "      <td>26.87</td>\n",
       "      <td>333.00</td>\n",
       "      <td>25,101.00</td>\n",
       "      <td>68,600.00</td>\n",
       "      <td>25.10</td>\n",
       "      <td>50.93</td>\n",
       "      <td>46.04</td>\n",
       "      <td>1.65</td>\n",
       "      <td>0.41</td>\n",
       "      <td>0.29</td>\n",
       "      <td>0.02</td>\n",
       "      <td>0.66</td>\n",
       "      <td>0.01</td>\n",
       "      <td>46.00</td>\n",
       "      <td>14.00</td>\n",
       "      <td>0.48</td>\n",
       "      <td>1.59</td>\n",
       "    </tr>\n",
       "    <tr>\n",
       "      <th>528</th>\n",
       "      <td>2003</td>\n",
       "      <td>Barbour County</td>\n",
       "      <td>Alabama</td>\n",
       "      <td>29,038.00</td>\n",
       "      <td>26.80</td>\n",
       "      <td>2,937.00</td>\n",
       "      <td>26.87</td>\n",
       "      <td>333.00</td>\n",
       "      <td>25,101.00</td>\n",
       "      <td>68,600.00</td>\n",
       "      <td>25.10</td>\n",
       "      <td>50.93</td>\n",
       "      <td>46.04</td>\n",
       "      <td>1.65</td>\n",
       "      <td>0.41</td>\n",
       "      <td>0.29</td>\n",
       "      <td>0.02</td>\n",
       "      <td>0.66</td>\n",
       "      <td>0.01</td>\n",
       "      <td>36.00</td>\n",
       "      <td>8.00</td>\n",
       "      <td>0.27</td>\n",
       "      <td>1.23</td>\n",
       "    </tr>\n",
       "    <tr>\n",
       "      <th>529</th>\n",
       "      <td>2004</td>\n",
       "      <td>Barbour County</td>\n",
       "      <td>Alabama</td>\n",
       "      <td>29,038.00</td>\n",
       "      <td>26.80</td>\n",
       "      <td>2,984.00</td>\n",
       "      <td>26.87</td>\n",
       "      <td>333.00</td>\n",
       "      <td>25,101.00</td>\n",
       "      <td>68,600.00</td>\n",
       "      <td>25.10</td>\n",
       "      <td>50.93</td>\n",
       "      <td>46.04</td>\n",
       "      <td>1.65</td>\n",
       "      <td>0.41</td>\n",
       "      <td>0.29</td>\n",
       "      <td>0.02</td>\n",
       "      <td>0.66</td>\n",
       "      <td>0.01</td>\n",
       "      <td>48.00</td>\n",
       "      <td>15.00</td>\n",
       "      <td>0.50</td>\n",
       "      <td>1.61</td>\n",
       "    </tr>\n",
       "    <tr>\n",
       "      <th>...</th>\n",
       "      <td>...</td>\n",
       "      <td>...</td>\n",
       "      <td>...</td>\n",
       "      <td>...</td>\n",
       "      <td>...</td>\n",
       "      <td>...</td>\n",
       "      <td>...</td>\n",
       "      <td>...</td>\n",
       "      <td>...</td>\n",
       "      <td>...</td>\n",
       "      <td>...</td>\n",
       "      <td>...</td>\n",
       "      <td>...</td>\n",
       "      <td>...</td>\n",
       "      <td>...</td>\n",
       "      <td>...</td>\n",
       "      <td>...</td>\n",
       "      <td>...</td>\n",
       "      <td>...</td>\n",
       "      <td>...</td>\n",
       "      <td>...</td>\n",
       "      <td>...</td>\n",
       "      <td>...</td>\n",
       "    </tr>\n",
       "    <tr>\n",
       "      <th>52495</th>\n",
       "      <td>2012</td>\n",
       "      <td>Menominee County</td>\n",
       "      <td>Wisconsin</td>\n",
       "      <td>4,451.00</td>\n",
       "      <td>28.65</td>\n",
       "      <td>392.00</td>\n",
       "      <td>30.50</td>\n",
       "      <td>469.00</td>\n",
       "      <td>35,343.00</td>\n",
       "      <td>83,500.00</td>\n",
       "      <td>25.80</td>\n",
       "      <td>10.51</td>\n",
       "      <td>0.43</td>\n",
       "      <td>5.53</td>\n",
       "      <td>80.00</td>\n",
       "      <td>2.45</td>\n",
       "      <td>0.00</td>\n",
       "      <td>1.08</td>\n",
       "      <td>0.00</td>\n",
       "      <td>1.00</td>\n",
       "      <td>1.00</td>\n",
       "      <td>0.26</td>\n",
       "      <td>0.26</td>\n",
       "    </tr>\n",
       "    <tr>\n",
       "      <th>52496</th>\n",
       "      <td>2013</td>\n",
       "      <td>Menominee County</td>\n",
       "      <td>Wisconsin</td>\n",
       "      <td>4,451.00</td>\n",
       "      <td>28.65</td>\n",
       "      <td>397.00</td>\n",
       "      <td>30.50</td>\n",
       "      <td>469.00</td>\n",
       "      <td>35,343.00</td>\n",
       "      <td>83,500.00</td>\n",
       "      <td>25.80</td>\n",
       "      <td>10.51</td>\n",
       "      <td>0.43</td>\n",
       "      <td>5.53</td>\n",
       "      <td>80.00</td>\n",
       "      <td>2.45</td>\n",
       "      <td>0.00</td>\n",
       "      <td>1.08</td>\n",
       "      <td>0.00</td>\n",
       "      <td>1.00</td>\n",
       "      <td>0.00</td>\n",
       "      <td>0.00</td>\n",
       "      <td>0.25</td>\n",
       "    </tr>\n",
       "    <tr>\n",
       "      <th>52497</th>\n",
       "      <td>2014</td>\n",
       "      <td>Menominee County</td>\n",
       "      <td>Wisconsin</td>\n",
       "      <td>4,451.00</td>\n",
       "      <td>28.65</td>\n",
       "      <td>402.00</td>\n",
       "      <td>30.50</td>\n",
       "      <td>469.00</td>\n",
       "      <td>35,343.00</td>\n",
       "      <td>83,500.00</td>\n",
       "      <td>25.80</td>\n",
       "      <td>10.51</td>\n",
       "      <td>0.43</td>\n",
       "      <td>5.53</td>\n",
       "      <td>80.00</td>\n",
       "      <td>2.45</td>\n",
       "      <td>0.00</td>\n",
       "      <td>1.08</td>\n",
       "      <td>0.00</td>\n",
       "      <td>0.00</td>\n",
       "      <td>0.00</td>\n",
       "      <td>0.00</td>\n",
       "      <td>0.00</td>\n",
       "    </tr>\n",
       "    <tr>\n",
       "      <th>52498</th>\n",
       "      <td>2015</td>\n",
       "      <td>Menominee County</td>\n",
       "      <td>Wisconsin</td>\n",
       "      <td>4,451.00</td>\n",
       "      <td>28.65</td>\n",
       "      <td>408.00</td>\n",
       "      <td>30.50</td>\n",
       "      <td>469.00</td>\n",
       "      <td>35,343.00</td>\n",
       "      <td>83,500.00</td>\n",
       "      <td>25.80</td>\n",
       "      <td>10.51</td>\n",
       "      <td>0.43</td>\n",
       "      <td>5.53</td>\n",
       "      <td>80.00</td>\n",
       "      <td>2.45</td>\n",
       "      <td>0.00</td>\n",
       "      <td>1.08</td>\n",
       "      <td>0.00</td>\n",
       "      <td>2.00</td>\n",
       "      <td>1.00</td>\n",
       "      <td>0.25</td>\n",
       "      <td>0.49</td>\n",
       "    </tr>\n",
       "    <tr>\n",
       "      <th>52499</th>\n",
       "      <td>2016</td>\n",
       "      <td>Menominee County</td>\n",
       "      <td>Wisconsin</td>\n",
       "      <td>4,451.00</td>\n",
       "      <td>28.65</td>\n",
       "      <td>413.00</td>\n",
       "      <td>30.50</td>\n",
       "      <td>469.00</td>\n",
       "      <td>35,343.00</td>\n",
       "      <td>83,500.00</td>\n",
       "      <td>25.80</td>\n",
       "      <td>10.51</td>\n",
       "      <td>0.43</td>\n",
       "      <td>5.53</td>\n",
       "      <td>80.00</td>\n",
       "      <td>2.45</td>\n",
       "      <td>0.00</td>\n",
       "      <td>1.08</td>\n",
       "      <td>0.00</td>\n",
       "      <td>0.00</td>\n",
       "      <td>0.00</td>\n",
       "      <td>0.00</td>\n",
       "      <td>0.00</td>\n",
       "    </tr>\n",
       "  </tbody>\n",
       "</table>\n",
       "<p>1236 rows × 23 columns</p>\n",
       "</div>"
      ],
      "text/plain": [
       "       year            county      state  population  poverty_rate  \\\n",
       "525    2000    Barbour County    Alabama   29,038.00         26.80   \n",
       "526    2001    Barbour County    Alabama   29,038.00         26.80   \n",
       "527    2002    Barbour County    Alabama   29,038.00         26.80   \n",
       "528    2003    Barbour County    Alabama   29,038.00         26.80   \n",
       "529    2004    Barbour County    Alabama   29,038.00         26.80   \n",
       "...     ...               ...        ...         ...           ...   \n",
       "52495  2012  Menominee County  Wisconsin    4,451.00         28.65   \n",
       "52496  2013  Menominee County  Wisconsin    4,451.00         28.65   \n",
       "52497  2014  Menominee County  Wisconsin    4,451.00         28.65   \n",
       "52498  2015  Menominee County  Wisconsin    4,451.00         28.65   \n",
       "52499  2016  Menominee County  Wisconsin    4,451.00         28.65   \n",
       "\n",
       "       renter_occupied_households  pct_renter_occupied  median_gross_rent  \\\n",
       "525                      2,797.00                26.87             333.00   \n",
       "526                      2,844.00                26.87             333.00   \n",
       "527                      2,890.00                26.87             333.00   \n",
       "528                      2,937.00                26.87             333.00   \n",
       "529                      2,984.00                26.87             333.00   \n",
       "...                           ...                  ...                ...   \n",
       "52495                      392.00                30.50             469.00   \n",
       "52496                      397.00                30.50             469.00   \n",
       "52497                      402.00                30.50             469.00   \n",
       "52498                      408.00                30.50             469.00   \n",
       "52499                      413.00                30.50             469.00   \n",
       "\n",
       "       median_household_income  median_property_value  rent_burden  pct_white  \\\n",
       "525                  25,101.00              68,600.00        25.10      50.93   \n",
       "526                  25,101.00              68,600.00        25.10      50.93   \n",
       "527                  25,101.00              68,600.00        25.10      50.93   \n",
       "528                  25,101.00              68,600.00        25.10      50.93   \n",
       "529                  25,101.00              68,600.00        25.10      50.93   \n",
       "...                        ...                    ...          ...        ...   \n",
       "52495                35,343.00              83,500.00        25.80      10.51   \n",
       "52496                35,343.00              83,500.00        25.80      10.51   \n",
       "52497                35,343.00              83,500.00        25.80      10.51   \n",
       "52498                35,343.00              83,500.00        25.80      10.51   \n",
       "52499                35,343.00              83,500.00        25.80      10.51   \n",
       "\n",
       "       pct_af_am  pct_hispanic  pct_am_ind  pct_asian  pct_nh_pi  \\\n",
       "525        46.04          1.65        0.41       0.29       0.02   \n",
       "526        46.04          1.65        0.41       0.29       0.02   \n",
       "527        46.04          1.65        0.41       0.29       0.02   \n",
       "528        46.04          1.65        0.41       0.29       0.02   \n",
       "529        46.04          1.65        0.41       0.29       0.02   \n",
       "...          ...           ...         ...        ...        ...   \n",
       "52495       0.43          5.53       80.00       2.45       0.00   \n",
       "52496       0.43          5.53       80.00       2.45       0.00   \n",
       "52497       0.43          5.53       80.00       2.45       0.00   \n",
       "52498       0.43          5.53       80.00       2.45       0.00   \n",
       "52499       0.43          5.53       80.00       2.45       0.00   \n",
       "\n",
       "       pct_multiple  pct_other  eviction_filings  evictions  eviction_rate  \\\n",
       "525            0.66       0.01             15.00      11.00           0.39   \n",
       "526            0.66       0.01             37.00      10.00           0.35   \n",
       "527            0.66       0.01             46.00      14.00           0.48   \n",
       "528            0.66       0.01             36.00       8.00           0.27   \n",
       "529            0.66       0.01             48.00      15.00           0.50   \n",
       "...             ...        ...               ...        ...            ...   \n",
       "52495          1.08       0.00              1.00       1.00           0.26   \n",
       "52496          1.08       0.00              1.00       0.00           0.00   \n",
       "52497          1.08       0.00              0.00       0.00           0.00   \n",
       "52498          1.08       0.00              2.00       1.00           0.25   \n",
       "52499          1.08       0.00              0.00       0.00           0.00   \n",
       "\n",
       "       eviction_filing_rate  \n",
       "525                    0.54  \n",
       "526                    1.30  \n",
       "527                    1.59  \n",
       "528                    1.23  \n",
       "529                    1.61  \n",
       "...                     ...  \n",
       "52495                  0.26  \n",
       "52496                  0.25  \n",
       "52497                  0.00  \n",
       "52498                  0.49  \n",
       "52499                  0.00  \n",
       "\n",
       "[1236 rows x 23 columns]"
      ]
     },
     "execution_count": 24,
     "metadata": {},
     "output_type": "execute_result"
    }
   ],
   "source": [
    "#poverty_rate\n",
    "\n",
    "outlier(counties_us, 'poverty_rate')"
   ]
  },
  {
   "cell_type": "markdown",
   "metadata": {},
   "source": [
    "We have 1236 rows with outliers under 'poverty_rate' attribute. We can understand that some places which are developed might have high oppurtunities for earning and might result in less poverty_rate \n",
    "Similarly vice - verse eith undeveloped counties.\n",
    "\n",
    "This can explain the outliers under 'poverty_rate' column."
   ]
  },
  {
   "cell_type": "code",
   "execution_count": 25,
   "metadata": {},
   "outputs": [
    {
     "data": {
      "text/plain": [
       "'% of the population with income in the past 12 months below the poverty level'"
      ]
     },
     "execution_count": 25,
     "metadata": {},
     "output_type": "execute_result"
    }
   ],
   "source": [
    "data_dict['poverty_rate']"
   ]
  },
  {
   "cell_type": "code",
   "execution_count": 26,
   "metadata": {},
   "outputs": [
    {
     "name": "stdout",
     "output_type": "stream",
     "text": [
      "Q1 =  971.0\n",
      "Q2 =  2315.0\n",
      "Q3 =  6845.25\n",
      "max_lim = 15656.625\n",
      "min_lim = -7840.375\n"
     ]
    },
    {
     "data": {
      "text/plain": [
       "394"
      ]
     },
     "execution_count": 26,
     "metadata": {},
     "output_type": "execute_result"
    }
   ],
   "source": [
    "#renter_occupied_households\n",
    "\n",
    "outlier(counties_us, 'renter_occupied_households')['county'].nunique()"
   ]
  },
  {
   "cell_type": "code",
   "execution_count": 27,
   "metadata": {},
   "outputs": [
    {
     "data": {
      "text/plain": [
       "'Interpolated count of renter-occupied households - Based on Census and ESRI Business Analyst demographic estimates'"
      ]
     },
     "execution_count": 27,
     "metadata": {},
     "output_type": "execute_result"
    }
   ],
   "source": [
    "data_dict['renter_occupied_households']"
   ]
  },
  {
   "cell_type": "code",
   "execution_count": 28,
   "metadata": {
    "scrolled": true
   },
   "outputs": [
    {
     "data": {
      "text/plain": [
       "1673"
      ]
     },
     "execution_count": 28,
     "metadata": {},
     "output_type": "execute_result"
    }
   ],
   "source": [
    "counties_us.county.nunique()"
   ]
  },
  {
   "cell_type": "code",
   "execution_count": 29,
   "metadata": {},
   "outputs": [
    {
     "data": {
      "text/plain": [
       "['year',\n",
       " 'county',\n",
       " 'state',\n",
       " 'population',\n",
       " 'poverty_rate',\n",
       " 'renter_occupied_households',\n",
       " 'pct_renter_occupied',\n",
       " 'median_gross_rent',\n",
       " 'median_household_income',\n",
       " 'median_property_value',\n",
       " 'rent_burden',\n",
       " 'pct_white',\n",
       " 'pct_af_am',\n",
       " 'pct_hispanic',\n",
       " 'pct_am_ind',\n",
       " 'pct_asian',\n",
       " 'pct_nh_pi',\n",
       " 'pct_multiple',\n",
       " 'pct_other',\n",
       " 'eviction_filings',\n",
       " 'evictions',\n",
       " 'eviction_rate',\n",
       " 'eviction_filing_rate']"
      ]
     },
     "execution_count": 29,
     "metadata": {},
     "output_type": "execute_result"
    }
   ],
   "source": [
    "counties_us.columns.tolist()"
   ]
  },
  {
   "cell_type": "markdown",
   "metadata": {},
   "source": [
    ">Data Vizualization\n",
    ">----"
   ]
  },
  {
   "cell_type": "code",
   "execution_count": 30,
   "metadata": {},
   "outputs": [
    {
     "data": {
      "text/plain": [
       "<matplotlib.collections.PathCollection at 0x2dc2acb1e80>"
      ]
     },
     "execution_count": 30,
     "metadata": {},
     "output_type": "execute_result"
    },
    {
     "data": {
      "image/png": "[encoded data removed]",
      "text/plain": [
       "<Figure size 432x288 with 1 Axes>"
      ]
     },
     "metadata": {
      "needs_background": "light"
     },
     "output_type": "display_data"
    }
   ],
   "source": [
    "plt.scatter(counties_us['year'], counties_us['evictions'])"
   ]
  },
  {
   "cell_type": "code",
   "execution_count": 31,
   "metadata": {},
   "outputs": [],
   "source": [
    "def year_class(x):\n",
    "        if  x >= 2000 and x< 2004:\n",
    "            return '2000 - 2003'\n",
    "        elif x >= 2004 and x< 2008:\n",
    "            return '2004 - 2007'\n",
    "        elif x >= 2008 and x< 2012:\n",
    "            return '2008 - 2011'\n",
    "        else:\n",
    "            return '2012 - 2016'\n",
    "        \n",
    "counties_us['Year_Batch'] = counties_us['year'].map(year_class)        "
   ]
  },
  {
   "cell_type": "code",
   "execution_count": 32,
   "metadata": {},
   "outputs": [
    {
     "data": {
      "text/plain": [
       "array(['2000 - 2003', '2004 - 2007', '2008 - 2011', '2012 - 2016'],\n",
       "      dtype=object)"
      ]
     },
     "execution_count": 32,
     "metadata": {},
     "output_type": "execute_result"
    }
   ],
   "source": [
    "counties_us['Year_Batch'].unique()"
   ]
  },
  {
   "cell_type": "markdown",
   "metadata": {},
   "source": [
    "DFs with respect to Year_Batchs\n",
    "-----"
   ]
  },
  {
   "cell_type": "code",
   "execution_count": 33,
   "metadata": {},
   "outputs": [],
   "source": [
    "#2000 - 2003\n",
    "\n",
    "countie_2000_03 = counties_us[counties_us['Year_Batch'] == '2000 - 2003']"
   ]
  },
  {
   "cell_type": "code",
   "execution_count": 34,
   "metadata": {},
   "outputs": [],
   "source": [
    "#2004 - 2007\n",
    "\n",
    "countie_2004_07 = counties_us[counties_us['Year_Batch'] == '2004 - 2007']"
   ]
  },
  {
   "cell_type": "code",
   "execution_count": 35,
   "metadata": {},
   "outputs": [],
   "source": [
    "#2008 - 2011\n",
    "\n",
    "countie_2008_11 = counties_us[counties_us['Year_Batch'] == '2008 - 2011']"
   ]
  },
  {
   "cell_type": "code",
   "execution_count": 36,
   "metadata": {},
   "outputs": [],
   "source": [
    "#2012 - 2016\n",
    "\n",
    "countie_2012_16 = counties_us[counties_us['Year_Batch'] == '2012 - 2016']"
   ]
  },
  {
   "cell_type": "markdown",
   "metadata": {},
   "source": [
    "#eviction vs Year\n",
    "-----"
   ]
  },
  {
   "cell_type": "code",
   "execution_count": 37,
   "metadata": {},
   "outputs": [
    {
     "data": {
      "text/plain": [
       "<BarContainer object of 41298 artists>"
      ]
     },
     "execution_count": 37,
     "metadata": {},
     "output_type": "execute_result"
    },
    {
     "data": {
      "image/png": "[encoded data removed]",
      "text/plain": [
       "<Figure size 432x288 with 1 Axes>"
      ]
     },
     "metadata": {
      "needs_background": "light"
     },
     "output_type": "display_data"
    }
   ],
   "source": [
    "plt.bar(counties_us['year'], counties_us['evictions'])"
   ]
  },
  {
   "cell_type": "code",
   "execution_count": 38,
   "metadata": {},
   "outputs": [],
   "source": [
    "#eviction_filings in the years 2005 & 2006"
   ]
  },
  {
   "cell_type": "code",
   "execution_count": 39,
   "metadata": {},
   "outputs": [
    {
     "data": {
      "text/html": [
       "<div>\n",
       "<style scoped>\n",
       "    .dataframe tbody tr th:only-of-type {\n",
       "        vertical-align: middle;\n",
       "    }\n",
       "\n",
       "    .dataframe tbody tr th {\n",
       "        vertical-align: top;\n",
       "    }\n",
       "\n",
       "    .dataframe thead th {\n",
       "        text-align: right;\n",
       "    }\n",
       "</style>\n",
       "<table border=\"1\" class=\"dataframe\">\n",
       "  <thead>\n",
       "    <tr style=\"text-align: right;\">\n",
       "      <th></th>\n",
       "      <th>county</th>\n",
       "      <th>year</th>\n",
       "      <th>eviction_filings</th>\n",
       "    </tr>\n",
       "  </thead>\n",
       "  <tbody>\n",
       "    <tr>\n",
       "      <th>496</th>\n",
       "      <td>Autauga County</td>\n",
       "      <td>2005</td>\n",
       "      <td>89.00</td>\n",
       "    </tr>\n",
       "    <tr>\n",
       "      <th>497</th>\n",
       "      <td>Autauga County</td>\n",
       "      <td>2006</td>\n",
       "      <td>85.00</td>\n",
       "    </tr>\n",
       "    <tr>\n",
       "      <th>513</th>\n",
       "      <td>Baldwin County</td>\n",
       "      <td>2005</td>\n",
       "      <td>500.00</td>\n",
       "    </tr>\n",
       "    <tr>\n",
       "      <th>514</th>\n",
       "      <td>Baldwin County</td>\n",
       "      <td>2006</td>\n",
       "      <td>512.00</td>\n",
       "    </tr>\n",
       "    <tr>\n",
       "      <th>530</th>\n",
       "      <td>Barbour County</td>\n",
       "      <td>2005</td>\n",
       "      <td>21.00</td>\n",
       "    </tr>\n",
       "    <tr>\n",
       "      <th>...</th>\n",
       "      <td>...</td>\n",
       "      <td>...</td>\n",
       "      <td>...</td>\n",
       "    </tr>\n",
       "    <tr>\n",
       "      <th>53390</th>\n",
       "      <td>Uinta County</td>\n",
       "      <td>2006</td>\n",
       "      <td>0.00</td>\n",
       "    </tr>\n",
       "    <tr>\n",
       "      <th>53406</th>\n",
       "      <td>Washakie County</td>\n",
       "      <td>2005</td>\n",
       "      <td>0.00</td>\n",
       "    </tr>\n",
       "    <tr>\n",
       "      <th>53407</th>\n",
       "      <td>Washakie County</td>\n",
       "      <td>2006</td>\n",
       "      <td>0.00</td>\n",
       "    </tr>\n",
       "    <tr>\n",
       "      <th>53423</th>\n",
       "      <td>Weston County</td>\n",
       "      <td>2005</td>\n",
       "      <td>6.00</td>\n",
       "    </tr>\n",
       "    <tr>\n",
       "      <th>53424</th>\n",
       "      <td>Weston County</td>\n",
       "      <td>2006</td>\n",
       "      <td>8.00</td>\n",
       "    </tr>\n",
       "  </tbody>\n",
       "</table>\n",
       "<p>4937 rows × 3 columns</p>\n",
       "</div>"
      ],
      "text/plain": [
       "                county  year  eviction_filings\n",
       "496     Autauga County  2005             89.00\n",
       "497     Autauga County  2006             85.00\n",
       "513     Baldwin County  2005            500.00\n",
       "514     Baldwin County  2006            512.00\n",
       "530     Barbour County  2005             21.00\n",
       "...                ...   ...               ...\n",
       "53390     Uinta County  2006              0.00\n",
       "53406  Washakie County  2005              0.00\n",
       "53407  Washakie County  2006              0.00\n",
       "53423    Weston County  2005              6.00\n",
       "53424    Weston County  2006              8.00\n",
       "\n",
       "[4937 rows x 3 columns]"
      ]
     },
     "execution_count": 39,
     "metadata": {},
     "output_type": "execute_result"
    }
   ],
   "source": [
    "counties_2005_06 = counties_us[(counties_us['year'] == 2005) | (counties_us['year'] == 2006)]\n",
    "\n",
    "counties_2005_06[['county','year','eviction_filings']]\n",
    "\n",
    "#plt.bar(counties_us['eviction_filing_rate'], counties_2005_06['year'])"
   ]
  },
  {
   "cell_type": "code",
   "execution_count": 40,
   "metadata": {
    "scrolled": true
   },
   "outputs": [
    {
     "data": {
      "text/html": [
       "<div>\n",
       "<style scoped>\n",
       "    .dataframe tbody tr th:only-of-type {\n",
       "        vertical-align: middle;\n",
       "    }\n",
       "\n",
       "    .dataframe tbody tr th {\n",
       "        vertical-align: top;\n",
       "    }\n",
       "\n",
       "    .dataframe thead th {\n",
       "        text-align: right;\n",
       "    }\n",
       "</style>\n",
       "<table border=\"1\" class=\"dataframe\">\n",
       "  <thead>\n",
       "    <tr style=\"text-align: right;\">\n",
       "      <th></th>\n",
       "      <th>eviction_rate</th>\n",
       "      <th>eviction_filing_rate</th>\n",
       "    </tr>\n",
       "    <tr>\n",
       "      <th>Year_Batch</th>\n",
       "      <th></th>\n",
       "      <th></th>\n",
       "    </tr>\n",
       "  </thead>\n",
       "  <tbody>\n",
       "    <tr>\n",
       "      <th>2000 - 2003</th>\n",
       "      <td>1.52</td>\n",
       "      <td>2.76</td>\n",
       "    </tr>\n",
       "    <tr>\n",
       "      <th>2004 - 2007</th>\n",
       "      <td>1.78</td>\n",
       "      <td>3.29</td>\n",
       "    </tr>\n",
       "    <tr>\n",
       "      <th>2008 - 2011</th>\n",
       "      <td>1.75</td>\n",
       "      <td>3.27</td>\n",
       "    </tr>\n",
       "    <tr>\n",
       "      <th>2012 - 2016</th>\n",
       "      <td>1.66</td>\n",
       "      <td>3.40</td>\n",
       "    </tr>\n",
       "  </tbody>\n",
       "</table>\n",
       "</div>"
      ],
      "text/plain": [
       "             eviction_rate  eviction_filing_rate\n",
       "Year_Batch                                      \n",
       "2000 - 2003           1.52                  2.76\n",
       "2004 - 2007           1.78                  3.29\n",
       "2008 - 2011           1.75                  3.27\n",
       "2012 - 2016           1.66                  3.40"
      ]
     },
     "execution_count": 40,
     "metadata": {},
     "output_type": "execute_result"
    }
   ],
   "source": [
    "counties_us.groupby('Year_Batch')[['eviction_rate', 'eviction_filing_rate']].mean()"
   ]
  },
  {
   "cell_type": "markdown",
   "metadata": {},
   "source": [
    "#evition_rate vs eviction_filing_rate (AVG)\n",
    "-----"
   ]
  },
  {
   "cell_type": "code",
   "execution_count": 41,
   "metadata": {
    "scrolled": false
   },
   "outputs": [
    {
     "data": {
      "text/plain": [
       "<matplotlib.axes._subplots.AxesSubplot at 0x2dc2ad06438>"
      ]
     },
     "execution_count": 41,
     "metadata": {},
     "output_type": "execute_result"
    },
    {
     "data": {
      "image/png": "[encoded data removed]",
      "text/plain": [
       "<Figure size 504x432 with 1 Axes>"
      ]
     },
     "metadata": {
      "needs_background": "light"
     },
     "output_type": "display_data"
    }
   ],
   "source": [
    "counties_us.groupby('Year_Batch')[['eviction_rate', 'eviction_filing_rate']\\\n",
    "                                ].mean().plot(kind = 'bar', figsize = (7, 6))"
   ]
  },
  {
   "cell_type": "markdown",
   "metadata": {},
   "source": [
    "We observed, 50% - 60% ratio between eviction_rate and eviction_filing_rate. "
   ]
  },
  {
   "cell_type": "code",
   "execution_count": 42,
   "metadata": {},
   "outputs": [
    {
     "data": {
      "text/plain": [
       "<matplotlib.axes._subplots.AxesSubplot at 0x2dc4d3a7898>"
      ]
     },
     "execution_count": 42,
     "metadata": {},
     "output_type": "execute_result"
    },
    {
     "data": {
      "image/png": "[encoded data removed]",
      "text/plain": [
       "<Figure size 360x360 with 1 Axes>"
      ]
     },
     "metadata": {
      "needs_background": "light"
     },
     "output_type": "display_data"
    }
   ],
   "source": [
    "counties_us.groupby('year')[['eviction_rate', 'eviction_filing_rate']\\\n",
    "                                ].mean().plot(kind = 'line', figsize = (5, 5))"
   ]
  },
  {
   "cell_type": "markdown",
   "metadata": {},
   "source": [
    "#TOP10 county vs eviction_rate\n",
    "-------"
   ]
  },
  {
   "cell_type": "code",
   "execution_count": 43,
   "metadata": {
    "scrolled": true
   },
   "outputs": [
    {
     "data": {
      "text/plain": [
       "<matplotlib.axes._subplots.AxesSubplot at 0x2dc4d0ab160>"
      ]
     },
     "execution_count": 43,
     "metadata": {},
     "output_type": "execute_result"
    },
    {
     "data": {
      "image/png": "[encoded data removed]",
      "text/plain": [
       "<Figure size 576x432 with 1 Axes>"
      ]
     },
     "metadata": {
      "needs_background": "light"
     },
     "output_type": "display_data"
    }
   ],
   "source": [
    "plt.figure(figsize=(15,10))\n",
    "\n",
    "plt.xticks(rotation=90)\n",
    "\n",
    "plt.xlabel('Counties')\n",
    "plt.ylabel('evition_rate')\n",
    "plt.suptitle('TOP10 Counties vs Eviction_Rate', fontsize=20)\n",
    "\n",
    "counties_us.groupby('county')['eviction_rate'].mean().sort_values(ascending = False).head(10).plot(kind = 'bar', figsize = (8, 6))"
   ]
  },
  {
   "cell_type": "markdown",
   "metadata": {},
   "source": [
    "#states vs eviction_filing_rate\n",
    "-----"
   ]
  },
  {
   "cell_type": "code",
   "execution_count": 44,
   "metadata": {},
   "outputs": [
    {
     "data": {
      "text/plain": [
       "<matplotlib.axes._subplots.AxesSubplot at 0x2dc4ce5b5c0>"
      ]
     },
     "execution_count": 44,
     "metadata": {},
     "output_type": "execute_result"
    },
    {
     "data": {
      "image/png": "[encoded data removed]",
      "text/plain": [
       "<Figure size 576x432 with 1 Axes>"
      ]
     },
     "metadata": {
      "needs_background": "light"
     },
     "output_type": "display_data"
    }
   ],
   "source": [
    "plt.figure(figsize=(15,10))\n",
    "\n",
    "plt.xticks(rotation=90)\n",
    "\n",
    "counties_us.groupby('county')['eviction_filing_rate'].mean().sort_values(ascending = False).head(10).plot(kind = 'bar', figsize = (8, 6))"
   ]
  },
  {
   "cell_type": "markdown",
   "metadata": {},
   "source": [
    "Top 15 counties with low  poverty_rate v/s eviction_rate \n",
    "-------"
   ]
  },
  {
   "cell_type": "code",
   "execution_count": 45,
   "metadata": {
    "scrolled": false
   },
   "outputs": [
    {
     "data": {
      "text/plain": [
       "<matplotlib.axes._subplots.AxesSubplot at 0x2dc4ca44d30>"
      ]
     },
     "execution_count": 45,
     "metadata": {},
     "output_type": "execute_result"
    },
    {
     "data": {
      "image/png": "[encoded data removed]",
      "text/plain": [
       "<Figure size 576x576 with 1 Axes>"
      ]
     },
     "metadata": {
      "needs_background": "light"
     },
     "output_type": "display_data"
    }
   ],
   "source": [
    "counties_us.groupby('county')[['eviction_rate', 'poverty_rate']].mean().sort_values( 'poverty_rate',ascending = True).head(15).plot(kind = 'bar', figsize = (8, 8), alpha=0.75, rot=90)"
   ]
  },
  {
   "cell_type": "markdown",
   "metadata": {},
   "source": [
    "Top 15 counties with high poverty_rate v/s eviction_rate\n",
    "-------"
   ]
  },
  {
   "cell_type": "code",
   "execution_count": 46,
   "metadata": {
    "scrolled": true
   },
   "outputs": [
    {
     "data": {
      "text/plain": [
       "<matplotlib.axes._subplots.AxesSubplot at 0x2dc4b564cf8>"
      ]
     },
     "execution_count": 46,
     "metadata": {},
     "output_type": "execute_result"
    },
    {
     "data": {
      "image/png": "[encoded data removed]",
      "text/plain": [
       "<Figure size 576x576 with 1 Axes>"
      ]
     },
     "metadata": {
      "needs_background": "light"
     },
     "output_type": "display_data"
    }
   ],
   "source": [
    "counties_us.groupby('county')[['eviction_rate', 'poverty_rate']].mean().sort_values( 'poverty_rate',ascending = False).head(15).plot(kind = 'bar', figsize = (8, 8), alpha=0.75, rot=90)"
   ]
  },
  {
   "cell_type": "markdown",
   "metadata": {},
   "source": [
    "Top 10 counties with low eviction_filing_rate vs Races%\n",
    "----"
   ]
  },
  {
   "cell_type": "code",
   "execution_count": 47,
   "metadata": {},
   "outputs": [
    {
     "data": {
      "text/plain": [
       "<matplotlib.axes._subplots.AxesSubplot at 0x2dc4b06e668>"
      ]
     },
     "execution_count": 47,
     "metadata": {},
     "output_type": "execute_result"
    },
    {
     "data": {
      "image/png": "[encoded data removed]",
      "text/plain": [
       "<Figure size 1080x576 with 1 Axes>"
      ]
     },
     "metadata": {
      "needs_background": "light"
     },
     "output_type": "display_data"
    }
   ],
   "source": [
    "x= counties_us[['county','eviction_filing_rate','pct_white', 'pct_af_am', 'pct_hispanic', 'pct_am_ind', 'pct_asian', 'pct_nh_pi', 'pct_multiple', 'pct_other',]]\n",
    "y= x.set_index('county')\n",
    "z=y.groupby('county').mean().sort_values('eviction_filing_rate').head(10)\n",
    "\n",
    "z.plot.bar(stacked=True, figsize = (15, 8))"
   ]
  },
  {
   "cell_type": "markdown",
   "metadata": {},
   "source": [
    "Top 10 counties with high eviction_filing_rate vs Races%\n",
    "-----"
   ]
  },
  {
   "cell_type": "code",
   "execution_count": 48,
   "metadata": {},
   "outputs": [
    {
     "data": {
      "text/plain": [
       "<matplotlib.axes._subplots.AxesSubplot at 0x2dc4b1edeb8>"
      ]
     },
     "execution_count": 48,
     "metadata": {},
     "output_type": "execute_result"
    },
    {
     "data": {
      "image/png": "[encoded data removed]",
      "text/plain": [
       "<Figure size 1080x576 with 1 Axes>"
      ]
     },
     "metadata": {
      "needs_background": "light"
     },
     "output_type": "display_data"
    }
   ],
   "source": [
    "x= counties_us[['county','eviction_filing_rate','pct_white', 'pct_af_am', 'pct_hispanic', 'pct_am_ind', 'pct_asian', 'pct_nh_pi', 'pct_multiple', 'pct_other',]]\n",
    "y= x.set_index('county')\n",
    "z=y.groupby('county').mean().sort_values('eviction_filing_rate', ascending = False).head(10)\n",
    "\n",
    "z.plot.bar(stacked=True, figsize = (15, 8))"
   ]
  },
  {
   "cell_type": "code",
   "execution_count": 49,
   "metadata": {
    "scrolled": true
   },
   "outputs": [
    {
     "data": {
      "text/html": [
       "<div>\n",
       "<style scoped>\n",
       "    .dataframe tbody tr th:only-of-type {\n",
       "        vertical-align: middle;\n",
       "    }\n",
       "\n",
       "    .dataframe tbody tr th {\n",
       "        vertical-align: top;\n",
       "    }\n",
       "\n",
       "    .dataframe thead th {\n",
       "        text-align: right;\n",
       "    }\n",
       "</style>\n",
       "<table border=\"1\" class=\"dataframe\">\n",
       "  <thead>\n",
       "    <tr style=\"text-align: right;\">\n",
       "      <th></th>\n",
       "      <th>county</th>\n",
       "      <th>median_gross_rent</th>\n",
       "      <th>median_household_income</th>\n",
       "      <th>median_property_value</th>\n",
       "      <th>rent_burden</th>\n",
       "    </tr>\n",
       "  </thead>\n",
       "  <tbody>\n",
       "    <tr>\n",
       "      <th>492</th>\n",
       "      <td>Autauga County</td>\n",
       "      <td>537.00</td>\n",
       "      <td>42,013.00</td>\n",
       "      <td>94,800.00</td>\n",
       "      <td>22.60</td>\n",
       "    </tr>\n",
       "    <tr>\n",
       "      <th>493</th>\n",
       "      <td>Autauga County</td>\n",
       "      <td>537.00</td>\n",
       "      <td>42,013.00</td>\n",
       "      <td>94,800.00</td>\n",
       "      <td>22.60</td>\n",
       "    </tr>\n",
       "    <tr>\n",
       "      <th>494</th>\n",
       "      <td>Autauga County</td>\n",
       "      <td>537.00</td>\n",
       "      <td>42,013.00</td>\n",
       "      <td>94,800.00</td>\n",
       "      <td>22.60</td>\n",
       "    </tr>\n",
       "    <tr>\n",
       "      <th>495</th>\n",
       "      <td>Autauga County</td>\n",
       "      <td>537.00</td>\n",
       "      <td>42,013.00</td>\n",
       "      <td>94,800.00</td>\n",
       "      <td>22.60</td>\n",
       "    </tr>\n",
       "    <tr>\n",
       "      <th>496</th>\n",
       "      <td>Autauga County</td>\n",
       "      <td>779.00</td>\n",
       "      <td>51,463.00</td>\n",
       "      <td>130,700.00</td>\n",
       "      <td>27.20</td>\n",
       "    </tr>\n",
       "  </tbody>\n",
       "</table>\n",
       "</div>"
      ],
      "text/plain": [
       "             county  median_gross_rent  median_household_income  \\\n",
       "492  Autauga County             537.00                42,013.00   \n",
       "493  Autauga County             537.00                42,013.00   \n",
       "494  Autauga County             537.00                42,013.00   \n",
       "495  Autauga County             537.00                42,013.00   \n",
       "496  Autauga County             779.00                51,463.00   \n",
       "\n",
       "     median_property_value  rent_burden  \n",
       "492              94,800.00        22.60  \n",
       "493              94,800.00        22.60  \n",
       "494              94,800.00        22.60  \n",
       "495              94,800.00        22.60  \n",
       "496             130,700.00        27.20  "
      ]
     },
     "execution_count": 49,
     "metadata": {},
     "output_type": "execute_result"
    }
   ],
   "source": [
    "counties_us[['county',  'median_gross_rent',\n",
    " 'median_household_income',\n",
    " 'median_property_value',\n",
    " 'rent_burden',]].head()"
   ]
  },
  {
   "cell_type": "markdown",
   "metadata": {},
   "source": [
    "#meadian_property_value vs Year_Batch\n",
    "----"
   ]
  },
  {
   "cell_type": "code",
   "execution_count": 50,
   "metadata": {},
   "outputs": [
    {
     "data": {
      "text/plain": [
       "<matplotlib.axes._subplots.AxesSubplot at 0x2dc4aaff898>"
      ]
     },
     "execution_count": 50,
     "metadata": {},
     "output_type": "execute_result"
    },
    {
     "data": {
      "image/png": "[encoded data removed]",
      "text/plain": [
       "<Figure size 504x432 with 1 Axes>"
      ]
     },
     "metadata": {
      "needs_background": "light"
     },
     "output_type": "display_data"
    }
   ],
   "source": [
    "counties_us.groupby('Year_Batch')[['median_household_income', 'median_property_value']\\\n",
    "                                ].mean().plot(kind = 'bar', figsize = (7, 6))"
   ]
  },
  {
   "cell_type": "code",
   "execution_count": 51,
   "metadata": {
    "scrolled": true
   },
   "outputs": [
    {
     "data": {
      "text/plain": [
       "<matplotlib.axes._subplots.AxesSubplot at 0x2dc4aa330f0>"
      ]
     },
     "execution_count": 51,
     "metadata": {},
     "output_type": "execute_result"
    },
    {
     "data": {
      "image/png": "[encoded data removed]",
      "text/plain": [
       "<Figure size 504x432 with 1 Axes>"
      ]
     },
     "metadata": {
      "needs_background": "light"
     },
     "output_type": "display_data"
    }
   ],
   "source": [
    "counties_us.groupby('Year_Batch')[['eviction_rate', 'poverty_rate', 'eviction_filing_rate', 'rent_burden']\\\n",
    "                                ].mean().plot(kind = 'line', figsize = (7, 6))"
   ]
  },
  {
   "cell_type": "markdown",
   "metadata": {},
   "source": [
    "Eviction rate with poverty and income\n",
    "-----"
   ]
  },
  {
   "cell_type": "markdown",
   "metadata": {},
   "source": [
    "#correlation\n",
    "----"
   ]
  },
  {
   "cell_type": "code",
   "execution_count": 52,
   "metadata": {},
   "outputs": [],
   "source": [
    "corr = counties_us.loc[:,['eviction_rate',\"poverty_rate\", 'rent_burden','pct_white',\n",
    " 'pct_af_am','median_household_income']].corr()"
   ]
  },
  {
   "cell_type": "code",
   "execution_count": 53,
   "metadata": {},
   "outputs": [
    {
     "data": {
      "text/plain": [
       "<matplotlib.axes._subplots.AxesSubplot at 0x2dc4a97fcf8>"
      ]
     },
     "execution_count": 53,
     "metadata": {},
     "output_type": "execute_result"
    },
    {
     "data": {
      "image/png": "[encoded data removed]",
      "text/plain": [
       "<Figure size 432x288 with 2 Axes>"
      ]
     },
     "metadata": {
      "needs_background": "light"
     },
     "output_type": "display_data"
    }
   ],
   "source": [
    "sns.heatmap(corr, cmap=\"RdYlBu\")"
   ]
  },
  {
   "cell_type": "markdown",
   "metadata": {},
   "source": [
    "# Eviction_rate with Features"
   ]
  },
  {
   "cell_type": "markdown",
   "metadata": {},
   "source": [
    "#poverty and income\n",
    "----"
   ]
  },
  {
   "cell_type": "code",
   "execution_count": 54,
   "metadata": {},
   "outputs": [
    {
     "data": {
      "text/plain": [
       "<seaborn.axisgrid.PairGrid at 0x2dc4a7fa748>"
      ]
     },
     "execution_count": 54,
     "metadata": {},
     "output_type": "execute_result"
    },
    {
     "data": {
      "image/png": "[encoded data removed]",
      "text/plain": [
       "<Figure size 900x180 with 5 Axes>"
      ]
     },
     "metadata": {
      "needs_background": "light"
     },
     "output_type": "display_data"
    }
   ],
   "source": [
    "sns.pairplot(data=counties_us, y_vars=['eviction_rate'],\n",
    "                  x_vars=['poverty_rate', 'median_gross_rent',\n",
    "       'median_household_income', 'median_property_value', 'rent_burden'])"
   ]
  },
  {
   "cell_type": "markdown",
   "metadata": {},
   "source": [
    "#Race\n",
    "----"
   ]
  },
  {
   "cell_type": "code",
   "execution_count": 55,
   "metadata": {},
   "outputs": [
    {
     "data": {
      "text/plain": [
       "<seaborn.axisgrid.PairGrid at 0x2dc49487668>"
      ]
     },
     "execution_count": 55,
     "metadata": {},
     "output_type": "execute_result"
    },
    {
     "data": {
      "image/png": "[encoded data removed]",
      "text/plain": [
       "<Figure size 1440x180 with 8 Axes>"
      ]
     },
     "metadata": {
      "needs_background": "light"
     },
     "output_type": "display_data"
    }
   ],
   "source": [
    "sns.pairplot(data=counties_us, y_vars=['eviction_rate'],\n",
    "                  x_vars=['pct_white', 'pct_af_am', 'pct_hispanic', 'pct_am_ind', 'pct_asian',\n",
    "       'pct_nh_pi', 'pct_multiple', 'pct_other'])"
   ]
  },
  {
   "cell_type": "markdown",
   "metadata": {},
   "source": [
    "#Renter household num\n",
    "----"
   ]
  },
  {
   "cell_type": "code",
   "execution_count": 56,
   "metadata": {},
   "outputs": [
    {
     "data": {
      "text/plain": [
       "<seaborn.axisgrid.PairGrid at 0x2dc4aa1ec18>"
      ]
     },
     "execution_count": 56,
     "metadata": {},
     "output_type": "execute_result"
    },
    {
     "data": {
      "image/png": "[encoded data removed]",
      "text/plain": [
       "<Figure size 540x180 with 3 Axes>"
      ]
     },
     "metadata": {
      "needs_background": "light"
     },
     "output_type": "display_data"
    }
   ],
   "source": [
    "sns.pairplot(data=counties_us, y_vars=['eviction_rate'],\n",
    "                  x_vars=['pct_renter_occupied','renter_occupied_households','population'])"
   ]
  },
  {
   "cell_type": "markdown",
   "metadata": {},
   "source": [
    "# Feature Selection"
   ]
  },
  {
   "cell_type": "code",
   "execution_count": 57,
   "metadata": {},
   "outputs": [
    {
     "data": {
      "text/plain": [
       "Index(['year', 'county', 'state', 'population', 'poverty_rate',\n",
       "       'renter_occupied_households', 'pct_renter_occupied',\n",
       "       'median_gross_rent', 'median_household_income', 'median_property_value',\n",
       "       'rent_burden', 'pct_white', 'pct_af_am', 'pct_hispanic', 'pct_am_ind',\n",
       "       'pct_asian', 'pct_nh_pi', 'pct_multiple', 'pct_other',\n",
       "       'eviction_filings', 'evictions', 'eviction_rate',\n",
       "       'eviction_filing_rate', 'Year_Batch'],\n",
       "      dtype='object')"
      ]
     },
     "execution_count": 57,
     "metadata": {},
     "output_type": "execute_result"
    }
   ],
   "source": [
    "counties_us.columns"
   ]
  },
  {
   "cell_type": "code",
   "execution_count": 58,
   "metadata": {},
   "outputs": [],
   "source": [
    "#creating dummies\n",
    "\n",
    "counties_us_dummy = pd.get_dummies(counties_us[['state', 'year']]).reset_index(drop = True)"
   ]
  },
  {
   "cell_type": "code",
   "execution_count": 59,
   "metadata": {},
   "outputs": [
    {
     "data": {
      "text/html": [
       "<div>\n",
       "<style scoped>\n",
       "    .dataframe tbody tr th:only-of-type {\n",
       "        vertical-align: middle;\n",
       "    }\n",
       "\n",
       "    .dataframe tbody tr th {\n",
       "        vertical-align: top;\n",
       "    }\n",
       "\n",
       "    .dataframe thead th {\n",
       "        text-align: right;\n",
       "    }\n",
       "</style>\n",
       "<table border=\"1\" class=\"dataframe\">\n",
       "  <thead>\n",
       "    <tr style=\"text-align: right;\">\n",
       "      <th></th>\n",
       "      <th>year</th>\n",
       "      <th>state_Alabama</th>\n",
       "      <th>state_Arizona</th>\n",
       "      <th>state_California</th>\n",
       "      <th>state_Colorado</th>\n",
       "      <th>state_Connecticut</th>\n",
       "      <th>state_Delaware</th>\n",
       "      <th>state_District of Columbia</th>\n",
       "      <th>state_Florida</th>\n",
       "      <th>state_Georgia</th>\n",
       "      <th>state_Hawaii</th>\n",
       "      <th>state_Idaho</th>\n",
       "      <th>state_Illinois</th>\n",
       "      <th>state_Indiana</th>\n",
       "      <th>state_Iowa</th>\n",
       "      <th>state_Kansas</th>\n",
       "      <th>state_Kentucky</th>\n",
       "      <th>state_Louisiana</th>\n",
       "      <th>state_Maine</th>\n",
       "      <th>state_Maryland</th>\n",
       "      <th>state_Massachusetts</th>\n",
       "      <th>state_Michigan</th>\n",
       "      <th>state_Minnesota</th>\n",
       "      <th>state_Mississippi</th>\n",
       "      <th>state_Missouri</th>\n",
       "      <th>state_Montana</th>\n",
       "      <th>state_Nebraska</th>\n",
       "      <th>state_Nevada</th>\n",
       "      <th>state_New Hampshire</th>\n",
       "      <th>state_New Jersey</th>\n",
       "      <th>state_New Mexico</th>\n",
       "      <th>state_New York</th>\n",
       "      <th>state_North Carolina</th>\n",
       "      <th>state_Ohio</th>\n",
       "      <th>state_Oklahoma</th>\n",
       "      <th>state_Oregon</th>\n",
       "      <th>state_Pennsylvania</th>\n",
       "      <th>state_Rhode Island</th>\n",
       "      <th>state_South Carolina</th>\n",
       "      <th>state_Tennessee</th>\n",
       "      <th>state_Texas</th>\n",
       "      <th>state_Utah</th>\n",
       "      <th>state_Vermont</th>\n",
       "      <th>state_Virginia</th>\n",
       "      <th>state_Washington</th>\n",
       "      <th>state_West Virginia</th>\n",
       "      <th>state_Wisconsin</th>\n",
       "      <th>state_Wyoming</th>\n",
       "    </tr>\n",
       "  </thead>\n",
       "  <tbody>\n",
       "    <tr>\n",
       "      <th>0</th>\n",
       "      <td>2001</td>\n",
       "      <td>1</td>\n",
       "      <td>0</td>\n",
       "      <td>0</td>\n",
       "      <td>0</td>\n",
       "      <td>0</td>\n",
       "      <td>0</td>\n",
       "      <td>0</td>\n",
       "      <td>0</td>\n",
       "      <td>0</td>\n",
       "      <td>0</td>\n",
       "      <td>0</td>\n",
       "      <td>0</td>\n",
       "      <td>0</td>\n",
       "      <td>0</td>\n",
       "      <td>0</td>\n",
       "      <td>0</td>\n",
       "      <td>0</td>\n",
       "      <td>0</td>\n",
       "      <td>0</td>\n",
       "      <td>0</td>\n",
       "      <td>0</td>\n",
       "      <td>0</td>\n",
       "      <td>0</td>\n",
       "      <td>0</td>\n",
       "      <td>0</td>\n",
       "      <td>0</td>\n",
       "      <td>0</td>\n",
       "      <td>0</td>\n",
       "      <td>0</td>\n",
       "      <td>0</td>\n",
       "      <td>0</td>\n",
       "      <td>0</td>\n",
       "      <td>0</td>\n",
       "      <td>0</td>\n",
       "      <td>0</td>\n",
       "      <td>0</td>\n",
       "      <td>0</td>\n",
       "      <td>0</td>\n",
       "      <td>0</td>\n",
       "      <td>0</td>\n",
       "      <td>0</td>\n",
       "      <td>0</td>\n",
       "      <td>0</td>\n",
       "      <td>0</td>\n",
       "      <td>0</td>\n",
       "      <td>0</td>\n",
       "      <td>0</td>\n",
       "    </tr>\n",
       "    <tr>\n",
       "      <th>1</th>\n",
       "      <td>2002</td>\n",
       "      <td>1</td>\n",
       "      <td>0</td>\n",
       "      <td>0</td>\n",
       "      <td>0</td>\n",
       "      <td>0</td>\n",
       "      <td>0</td>\n",
       "      <td>0</td>\n",
       "      <td>0</td>\n",
       "      <td>0</td>\n",
       "      <td>0</td>\n",
       "      <td>0</td>\n",
       "      <td>0</td>\n",
       "      <td>0</td>\n",
       "      <td>0</td>\n",
       "      <td>0</td>\n",
       "      <td>0</td>\n",
       "      <td>0</td>\n",
       "      <td>0</td>\n",
       "      <td>0</td>\n",
       "      <td>0</td>\n",
       "      <td>0</td>\n",
       "      <td>0</td>\n",
       "      <td>0</td>\n",
       "      <td>0</td>\n",
       "      <td>0</td>\n",
       "      <td>0</td>\n",
       "      <td>0</td>\n",
       "      <td>0</td>\n",
       "      <td>0</td>\n",
       "      <td>0</td>\n",
       "      <td>0</td>\n",
       "      <td>0</td>\n",
       "      <td>0</td>\n",
       "      <td>0</td>\n",
       "      <td>0</td>\n",
       "      <td>0</td>\n",
       "      <td>0</td>\n",
       "      <td>0</td>\n",
       "      <td>0</td>\n",
       "      <td>0</td>\n",
       "      <td>0</td>\n",
       "      <td>0</td>\n",
       "      <td>0</td>\n",
       "      <td>0</td>\n",
       "      <td>0</td>\n",
       "      <td>0</td>\n",
       "      <td>0</td>\n",
       "    </tr>\n",
       "    <tr>\n",
       "      <th>2</th>\n",
       "      <td>2003</td>\n",
       "      <td>1</td>\n",
       "      <td>0</td>\n",
       "      <td>0</td>\n",
       "      <td>0</td>\n",
       "      <td>0</td>\n",
       "      <td>0</td>\n",
       "      <td>0</td>\n",
       "      <td>0</td>\n",
       "      <td>0</td>\n",
       "      <td>0</td>\n",
       "      <td>0</td>\n",
       "      <td>0</td>\n",
       "      <td>0</td>\n",
       "      <td>0</td>\n",
       "      <td>0</td>\n",
       "      <td>0</td>\n",
       "      <td>0</td>\n",
       "      <td>0</td>\n",
       "      <td>0</td>\n",
       "      <td>0</td>\n",
       "      <td>0</td>\n",
       "      <td>0</td>\n",
       "      <td>0</td>\n",
       "      <td>0</td>\n",
       "      <td>0</td>\n",
       "      <td>0</td>\n",
       "      <td>0</td>\n",
       "      <td>0</td>\n",
       "      <td>0</td>\n",
       "      <td>0</td>\n",
       "      <td>0</td>\n",
       "      <td>0</td>\n",
       "      <td>0</td>\n",
       "      <td>0</td>\n",
       "      <td>0</td>\n",
       "      <td>0</td>\n",
       "      <td>0</td>\n",
       "      <td>0</td>\n",
       "      <td>0</td>\n",
       "      <td>0</td>\n",
       "      <td>0</td>\n",
       "      <td>0</td>\n",
       "      <td>0</td>\n",
       "      <td>0</td>\n",
       "      <td>0</td>\n",
       "      <td>0</td>\n",
       "      <td>0</td>\n",
       "    </tr>\n",
       "    <tr>\n",
       "      <th>3</th>\n",
       "      <td>2004</td>\n",
       "      <td>1</td>\n",
       "      <td>0</td>\n",
       "      <td>0</td>\n",
       "      <td>0</td>\n",
       "      <td>0</td>\n",
       "      <td>0</td>\n",
       "      <td>0</td>\n",
       "      <td>0</td>\n",
       "      <td>0</td>\n",
       "      <td>0</td>\n",
       "      <td>0</td>\n",
       "      <td>0</td>\n",
       "      <td>0</td>\n",
       "      <td>0</td>\n",
       "      <td>0</td>\n",
       "      <td>0</td>\n",
       "      <td>0</td>\n",
       "      <td>0</td>\n",
       "      <td>0</td>\n",
       "      <td>0</td>\n",
       "      <td>0</td>\n",
       "      <td>0</td>\n",
       "      <td>0</td>\n",
       "      <td>0</td>\n",
       "      <td>0</td>\n",
       "      <td>0</td>\n",
       "      <td>0</td>\n",
       "      <td>0</td>\n",
       "      <td>0</td>\n",
       "      <td>0</td>\n",
       "      <td>0</td>\n",
       "      <td>0</td>\n",
       "      <td>0</td>\n",
       "      <td>0</td>\n",
       "      <td>0</td>\n",
       "      <td>0</td>\n",
       "      <td>0</td>\n",
       "      <td>0</td>\n",
       "      <td>0</td>\n",
       "      <td>0</td>\n",
       "      <td>0</td>\n",
       "      <td>0</td>\n",
       "      <td>0</td>\n",
       "      <td>0</td>\n",
       "      <td>0</td>\n",
       "      <td>0</td>\n",
       "      <td>0</td>\n",
       "    </tr>\n",
       "    <tr>\n",
       "      <th>4</th>\n",
       "      <td>2005</td>\n",
       "      <td>1</td>\n",
       "      <td>0</td>\n",
       "      <td>0</td>\n",
       "      <td>0</td>\n",
       "      <td>0</td>\n",
       "      <td>0</td>\n",
       "      <td>0</td>\n",
       "      <td>0</td>\n",
       "      <td>0</td>\n",
       "      <td>0</td>\n",
       "      <td>0</td>\n",
       "      <td>0</td>\n",
       "      <td>0</td>\n",
       "      <td>0</td>\n",
       "      <td>0</td>\n",
       "      <td>0</td>\n",
       "      <td>0</td>\n",
       "      <td>0</td>\n",
       "      <td>0</td>\n",
       "      <td>0</td>\n",
       "      <td>0</td>\n",
       "      <td>0</td>\n",
       "      <td>0</td>\n",
       "      <td>0</td>\n",
       "      <td>0</td>\n",
       "      <td>0</td>\n",
       "      <td>0</td>\n",
       "      <td>0</td>\n",
       "      <td>0</td>\n",
       "      <td>0</td>\n",
       "      <td>0</td>\n",
       "      <td>0</td>\n",
       "      <td>0</td>\n",
       "      <td>0</td>\n",
       "      <td>0</td>\n",
       "      <td>0</td>\n",
       "      <td>0</td>\n",
       "      <td>0</td>\n",
       "      <td>0</td>\n",
       "      <td>0</td>\n",
       "      <td>0</td>\n",
       "      <td>0</td>\n",
       "      <td>0</td>\n",
       "      <td>0</td>\n",
       "      <td>0</td>\n",
       "      <td>0</td>\n",
       "      <td>0</td>\n",
       "    </tr>\n",
       "  </tbody>\n",
       "</table>\n",
       "</div>"
      ],
      "text/plain": [
       "   year  state_Alabama  state_Arizona  state_California  state_Colorado  \\\n",
       "0  2001              1              0                 0               0   \n",
       "1  2002              1              0                 0               0   \n",
       "2  2003              1              0                 0               0   \n",
       "3  2004              1              0                 0               0   \n",
       "4  2005              1              0                 0               0   \n",
       "\n",
       "   state_Connecticut  state_Delaware  state_District of Columbia  \\\n",
       "0                  0               0                           0   \n",
       "1                  0               0                           0   \n",
       "2                  0               0                           0   \n",
       "3                  0               0                           0   \n",
       "4                  0               0                           0   \n",
       "\n",
       "   state_Florida  state_Georgia  state_Hawaii  state_Idaho  state_Illinois  \\\n",
       "0              0              0             0            0               0   \n",
       "1              0              0             0            0               0   \n",
       "2              0              0             0            0               0   \n",
       "3              0              0             0            0               0   \n",
       "4              0              0             0            0               0   \n",
       "\n",
       "   state_Indiana  state_Iowa  state_Kansas  state_Kentucky  state_Louisiana  \\\n",
       "0              0           0             0               0                0   \n",
       "1              0           0             0               0                0   \n",
       "2              0           0             0               0                0   \n",
       "3              0           0             0               0                0   \n",
       "4              0           0             0               0                0   \n",
       "\n",
       "   state_Maine  state_Maryland  state_Massachusetts  state_Michigan  \\\n",
       "0            0               0                    0               0   \n",
       "1            0               0                    0               0   \n",
       "2            0               0                    0               0   \n",
       "3            0               0                    0               0   \n",
       "4            0               0                    0               0   \n",
       "\n",
       "   state_Minnesota  state_Mississippi  state_Missouri  state_Montana  \\\n",
       "0                0                  0               0              0   \n",
       "1                0                  0               0              0   \n",
       "2                0                  0               0              0   \n",
       "3                0                  0               0              0   \n",
       "4                0                  0               0              0   \n",
       "\n",
       "   state_Nebraska  state_Nevada  state_New Hampshire  state_New Jersey  \\\n",
       "0               0             0                    0                 0   \n",
       "1               0             0                    0                 0   \n",
       "2               0             0                    0                 0   \n",
       "3               0             0                    0                 0   \n",
       "4               0             0                    0                 0   \n",
       "\n",
       "   state_New Mexico  state_New York  state_North Carolina  state_Ohio  \\\n",
       "0                 0               0                     0           0   \n",
       "1                 0               0                     0           0   \n",
       "2                 0               0                     0           0   \n",
       "3                 0               0                     0           0   \n",
       "4                 0               0                     0           0   \n",
       "\n",
       "   state_Oklahoma  state_Oregon  state_Pennsylvania  state_Rhode Island  \\\n",
       "0               0             0                   0                   0   \n",
       "1               0             0                   0                   0   \n",
       "2               0             0                   0                   0   \n",
       "3               0             0                   0                   0   \n",
       "4               0             0                   0                   0   \n",
       "\n",
       "   state_South Carolina  state_Tennessee  state_Texas  state_Utah  \\\n",
       "0                     0                0            0           0   \n",
       "1                     0                0            0           0   \n",
       "2                     0                0            0           0   \n",
       "3                     0                0            0           0   \n",
       "4                     0                0            0           0   \n",
       "\n",
       "   state_Vermont  state_Virginia  state_Washington  state_West Virginia  \\\n",
       "0              0               0                 0                    0   \n",
       "1              0               0                 0                    0   \n",
       "2              0               0                 0                    0   \n",
       "3              0               0                 0                    0   \n",
       "4              0               0                 0                    0   \n",
       "\n",
       "   state_Wisconsin  state_Wyoming  \n",
       "0                0              0  \n",
       "1                0              0  \n",
       "2                0              0  \n",
       "3                0              0  \n",
       "4                0              0  "
      ]
     },
     "execution_count": 59,
     "metadata": {},
     "output_type": "execute_result"
    }
   ],
   "source": [
    "pd.options.display.max_columns = 100\n",
    "counties_us_dummy.head()"
   ]
  },
  {
   "cell_type": "code",
   "execution_count": 60,
   "metadata": {},
   "outputs": [],
   "source": [
    "#normalizing...\n",
    "\n",
    "col_list = ['poverty_rate', 'pct_renter_occupied', 'median_gross_rent',\\\n",
    "       'median_household_income', 'median_property_value', 'rent_burden',\\\n",
    "       'pct_white', 'pct_af_am', 'pct_hispanic', 'pct_am_ind', 'pct_asian',\\\n",
    "       'pct_nh_pi', 'pct_multiple', 'pct_other', 'renter_occupied_households']\n",
    "\n",
    "counties_us_norm = preprocessing.normalize(counties_us[col_list], axis = 0)\n",
    "\n",
    "\n",
    "counties_us_norm = pd.DataFrame(counties_us_norm, columns = col_list)"
   ]
  },
  {
   "cell_type": "code",
   "execution_count": 61,
   "metadata": {},
   "outputs": [
    {
     "data": {
      "text/html": [
       "<div>\n",
       "<style scoped>\n",
       "    .dataframe tbody tr th:only-of-type {\n",
       "        vertical-align: middle;\n",
       "    }\n",
       "\n",
       "    .dataframe tbody tr th {\n",
       "        vertical-align: top;\n",
       "    }\n",
       "\n",
       "    .dataframe thead th {\n",
       "        text-align: right;\n",
       "    }\n",
       "</style>\n",
       "<table border=\"1\" class=\"dataframe\">\n",
       "  <thead>\n",
       "    <tr style=\"text-align: right;\">\n",
       "      <th></th>\n",
       "      <th>poverty_rate</th>\n",
       "      <th>pct_renter_occupied</th>\n",
       "      <th>median_gross_rent</th>\n",
       "      <th>median_household_income</th>\n",
       "      <th>median_property_value</th>\n",
       "      <th>rent_burden</th>\n",
       "      <th>pct_white</th>\n",
       "      <th>pct_af_am</th>\n",
       "      <th>pct_hispanic</th>\n",
       "      <th>pct_am_ind</th>\n",
       "      <th>pct_asian</th>\n",
       "      <th>pct_nh_pi</th>\n",
       "      <th>pct_multiple</th>\n",
       "      <th>pct_other</th>\n",
       "      <th>renter_occupied_households</th>\n",
       "    </tr>\n",
       "  </thead>\n",
       "  <tbody>\n",
       "    <tr>\n",
       "      <th>0</th>\n",
       "      <td>0.00</td>\n",
       "      <td>0.00</td>\n",
       "      <td>0.00</td>\n",
       "      <td>0.00</td>\n",
       "      <td>0.00</td>\n",
       "      <td>0.00</td>\n",
       "      <td>0.00</td>\n",
       "      <td>0.01</td>\n",
       "      <td>0.00</td>\n",
       "      <td>0.00</td>\n",
       "      <td>0.00</td>\n",
       "      <td>0.00</td>\n",
       "      <td>0.00</td>\n",
       "      <td>0.00</td>\n",
       "      <td>0.00</td>\n",
       "    </tr>\n",
       "    <tr>\n",
       "      <th>1</th>\n",
       "      <td>0.00</td>\n",
       "      <td>0.00</td>\n",
       "      <td>0.00</td>\n",
       "      <td>0.00</td>\n",
       "      <td>0.00</td>\n",
       "      <td>0.00</td>\n",
       "      <td>0.00</td>\n",
       "      <td>0.01</td>\n",
       "      <td>0.00</td>\n",
       "      <td>0.00</td>\n",
       "      <td>0.00</td>\n",
       "      <td>0.00</td>\n",
       "      <td>0.00</td>\n",
       "      <td>0.00</td>\n",
       "      <td>0.00</td>\n",
       "    </tr>\n",
       "    <tr>\n",
       "      <th>2</th>\n",
       "      <td>0.00</td>\n",
       "      <td>0.00</td>\n",
       "      <td>0.00</td>\n",
       "      <td>0.00</td>\n",
       "      <td>0.00</td>\n",
       "      <td>0.00</td>\n",
       "      <td>0.00</td>\n",
       "      <td>0.01</td>\n",
       "      <td>0.00</td>\n",
       "      <td>0.00</td>\n",
       "      <td>0.00</td>\n",
       "      <td>0.00</td>\n",
       "      <td>0.00</td>\n",
       "      <td>0.00</td>\n",
       "      <td>0.00</td>\n",
       "    </tr>\n",
       "    <tr>\n",
       "      <th>3</th>\n",
       "      <td>0.00</td>\n",
       "      <td>0.00</td>\n",
       "      <td>0.00</td>\n",
       "      <td>0.00</td>\n",
       "      <td>0.00</td>\n",
       "      <td>0.00</td>\n",
       "      <td>0.00</td>\n",
       "      <td>0.01</td>\n",
       "      <td>0.00</td>\n",
       "      <td>0.00</td>\n",
       "      <td>0.00</td>\n",
       "      <td>0.00</td>\n",
       "      <td>0.00</td>\n",
       "      <td>0.00</td>\n",
       "      <td>0.00</td>\n",
       "    </tr>\n",
       "    <tr>\n",
       "      <th>4</th>\n",
       "      <td>0.00</td>\n",
       "      <td>0.00</td>\n",
       "      <td>0.01</td>\n",
       "      <td>0.01</td>\n",
       "      <td>0.00</td>\n",
       "      <td>0.00</td>\n",
       "      <td>0.00</td>\n",
       "      <td>0.01</td>\n",
       "      <td>0.00</td>\n",
       "      <td>0.00</td>\n",
       "      <td>0.00</td>\n",
       "      <td>0.00</td>\n",
       "      <td>0.00</td>\n",
       "      <td>0.00</td>\n",
       "      <td>0.00</td>\n",
       "    </tr>\n",
       "  </tbody>\n",
       "</table>\n",
       "</div>"
      ],
      "text/plain": [
       "   poverty_rate  pct_renter_occupied  median_gross_rent  \\\n",
       "0          0.00                 0.00               0.00   \n",
       "1          0.00                 0.00               0.00   \n",
       "2          0.00                 0.00               0.00   \n",
       "3          0.00                 0.00               0.00   \n",
       "4          0.00                 0.00               0.01   \n",
       "\n",
       "   median_household_income  median_property_value  rent_burden  pct_white  \\\n",
       "0                     0.00                   0.00         0.00       0.00   \n",
       "1                     0.00                   0.00         0.00       0.00   \n",
       "2                     0.00                   0.00         0.00       0.00   \n",
       "3                     0.00                   0.00         0.00       0.00   \n",
       "4                     0.01                   0.00         0.00       0.00   \n",
       "\n",
       "   pct_af_am  pct_hispanic  pct_am_ind  pct_asian  pct_nh_pi  pct_multiple  \\\n",
       "0       0.01          0.00        0.00       0.00       0.00          0.00   \n",
       "1       0.01          0.00        0.00       0.00       0.00          0.00   \n",
       "2       0.01          0.00        0.00       0.00       0.00          0.00   \n",
       "3       0.01          0.00        0.00       0.00       0.00          0.00   \n",
       "4       0.01          0.00        0.00       0.00       0.00          0.00   \n",
       "\n",
       "   pct_other  renter_occupied_households  \n",
       "0       0.00                        0.00  \n",
       "1       0.00                        0.00  \n",
       "2       0.00                        0.00  \n",
       "3       0.00                        0.00  \n",
       "4       0.00                        0.00  "
      ]
     },
     "execution_count": 61,
     "metadata": {},
     "output_type": "execute_result"
    }
   ],
   "source": [
    "counties_us_norm.head()"
   ]
  },
  {
   "cell_type": "code",
   "execution_count": 62,
   "metadata": {},
   "outputs": [
    {
     "data": {
      "text/html": [
       "<div>\n",
       "<style scoped>\n",
       "    .dataframe tbody tr th:only-of-type {\n",
       "        vertical-align: middle;\n",
       "    }\n",
       "\n",
       "    .dataframe tbody tr th {\n",
       "        vertical-align: top;\n",
       "    }\n",
       "\n",
       "    .dataframe thead th {\n",
       "        text-align: right;\n",
       "    }\n",
       "</style>\n",
       "<table border=\"1\" class=\"dataframe\">\n",
       "  <thead>\n",
       "    <tr style=\"text-align: right;\">\n",
       "      <th></th>\n",
       "      <th>poverty_rate</th>\n",
       "      <th>pct_renter_occupied</th>\n",
       "      <th>median_gross_rent</th>\n",
       "      <th>median_household_income</th>\n",
       "      <th>median_property_value</th>\n",
       "      <th>rent_burden</th>\n",
       "      <th>pct_white</th>\n",
       "      <th>pct_af_am</th>\n",
       "      <th>pct_hispanic</th>\n",
       "      <th>pct_am_ind</th>\n",
       "      <th>pct_asian</th>\n",
       "      <th>pct_nh_pi</th>\n",
       "      <th>pct_multiple</th>\n",
       "      <th>pct_other</th>\n",
       "      <th>renter_occupied_households</th>\n",
       "    </tr>\n",
       "  </thead>\n",
       "  <tbody>\n",
       "    <tr>\n",
       "      <th>0</th>\n",
       "      <td>0.00</td>\n",
       "      <td>0.00</td>\n",
       "      <td>0.00</td>\n",
       "      <td>0.00</td>\n",
       "      <td>0.00</td>\n",
       "      <td>0.00</td>\n",
       "      <td>0.00</td>\n",
       "      <td>0.01</td>\n",
       "      <td>0.00</td>\n",
       "      <td>0.00</td>\n",
       "      <td>0.00</td>\n",
       "      <td>0.00</td>\n",
       "      <td>0.00</td>\n",
       "      <td>0.00</td>\n",
       "      <td>0.00</td>\n",
       "    </tr>\n",
       "    <tr>\n",
       "      <th>1</th>\n",
       "      <td>0.00</td>\n",
       "      <td>0.00</td>\n",
       "      <td>0.00</td>\n",
       "      <td>0.00</td>\n",
       "      <td>0.00</td>\n",
       "      <td>0.00</td>\n",
       "      <td>0.00</td>\n",
       "      <td>0.01</td>\n",
       "      <td>0.00</td>\n",
       "      <td>0.00</td>\n",
       "      <td>0.00</td>\n",
       "      <td>0.00</td>\n",
       "      <td>0.00</td>\n",
       "      <td>0.00</td>\n",
       "      <td>0.00</td>\n",
       "    </tr>\n",
       "    <tr>\n",
       "      <th>2</th>\n",
       "      <td>0.00</td>\n",
       "      <td>0.00</td>\n",
       "      <td>0.00</td>\n",
       "      <td>0.00</td>\n",
       "      <td>0.00</td>\n",
       "      <td>0.00</td>\n",
       "      <td>0.00</td>\n",
       "      <td>0.01</td>\n",
       "      <td>0.00</td>\n",
       "      <td>0.00</td>\n",
       "      <td>0.00</td>\n",
       "      <td>0.00</td>\n",
       "      <td>0.00</td>\n",
       "      <td>0.00</td>\n",
       "      <td>0.00</td>\n",
       "    </tr>\n",
       "    <tr>\n",
       "      <th>3</th>\n",
       "      <td>0.00</td>\n",
       "      <td>0.00</td>\n",
       "      <td>0.00</td>\n",
       "      <td>0.00</td>\n",
       "      <td>0.00</td>\n",
       "      <td>0.00</td>\n",
       "      <td>0.00</td>\n",
       "      <td>0.01</td>\n",
       "      <td>0.00</td>\n",
       "      <td>0.00</td>\n",
       "      <td>0.00</td>\n",
       "      <td>0.00</td>\n",
       "      <td>0.00</td>\n",
       "      <td>0.00</td>\n",
       "      <td>0.00</td>\n",
       "    </tr>\n",
       "    <tr>\n",
       "      <th>4</th>\n",
       "      <td>0.00</td>\n",
       "      <td>0.00</td>\n",
       "      <td>0.01</td>\n",
       "      <td>0.01</td>\n",
       "      <td>0.00</td>\n",
       "      <td>0.00</td>\n",
       "      <td>0.00</td>\n",
       "      <td>0.01</td>\n",
       "      <td>0.00</td>\n",
       "      <td>0.00</td>\n",
       "      <td>0.00</td>\n",
       "      <td>0.00</td>\n",
       "      <td>0.00</td>\n",
       "      <td>0.00</td>\n",
       "      <td>0.00</td>\n",
       "    </tr>\n",
       "  </tbody>\n",
       "</table>\n",
       "</div>"
      ],
      "text/plain": [
       "   poverty_rate  pct_renter_occupied  median_gross_rent  \\\n",
       "0          0.00                 0.00               0.00   \n",
       "1          0.00                 0.00               0.00   \n",
       "2          0.00                 0.00               0.00   \n",
       "3          0.00                 0.00               0.00   \n",
       "4          0.00                 0.00               0.01   \n",
       "\n",
       "   median_household_income  median_property_value  rent_burden  pct_white  \\\n",
       "0                     0.00                   0.00         0.00       0.00   \n",
       "1                     0.00                   0.00         0.00       0.00   \n",
       "2                     0.00                   0.00         0.00       0.00   \n",
       "3                     0.00                   0.00         0.00       0.00   \n",
       "4                     0.01                   0.00         0.00       0.00   \n",
       "\n",
       "   pct_af_am  pct_hispanic  pct_am_ind  pct_asian  pct_nh_pi  pct_multiple  \\\n",
       "0       0.01          0.00        0.00       0.00       0.00          0.00   \n",
       "1       0.01          0.00        0.00       0.00       0.00          0.00   \n",
       "2       0.01          0.00        0.00       0.00       0.00          0.00   \n",
       "3       0.01          0.00        0.00       0.00       0.00          0.00   \n",
       "4       0.01          0.00        0.00       0.00       0.00          0.00   \n",
       "\n",
       "   pct_other  renter_occupied_households  \n",
       "0       0.00                        0.00  \n",
       "1       0.00                        0.00  \n",
       "2       0.00                        0.00  \n",
       "3       0.00                        0.00  \n",
       "4       0.00                        0.00  "
      ]
     },
     "execution_count": 62,
     "metadata": {},
     "output_type": "execute_result"
    }
   ],
   "source": [
    "counties_us_norm.head()"
   ]
  },
  {
   "cell_type": "code",
   "execution_count": 63,
   "metadata": {},
   "outputs": [],
   "source": [
    "#combiniding both dummy and normalized data back again as X_train (train) and X_test (test)\n",
    "# y_train/ y_test as target\n",
    "\n",
    "X = pd.concat([counties_us_norm,counties_us_dummy], axis = 1)\n",
    "y = counties_us.eviction_rate"
   ]
  },
  {
   "cell_type": "code",
   "execution_count": 64,
   "metadata": {},
   "outputs": [],
   "source": [
    "#Spliting train and test data\n",
    "X_train, X_test, y_train, y_test = train_test_split(X, y, test_size=0.2, random_state=42)"
   ]
  },
  {
   "cell_type": "markdown",
   "metadata": {},
   "source": [
    "# Fitting model - Logistic Regression"
   ]
  },
  {
   "cell_type": "code",
   "execution_count": 65,
   "metadata": {},
   "outputs": [],
   "source": [
    "from sklearn.linear_model import LinearRegression"
   ]
  },
  {
   "cell_type": "code",
   "execution_count": 77,
   "metadata": {},
   "outputs": [
    {
     "data": {
      "text/plain": [
       "LinearRegression(copy_X=True, fit_intercept=True, n_jobs=None, normalize=False)"
      ]
     },
     "execution_count": 77,
     "metadata": {},
     "output_type": "execute_result"
    }
   ],
   "source": [
    "linreg = LinearRegression()\n",
    "linreg.fit(X_train, y_train)"
   ]
  },
  {
   "cell_type": "code",
   "execution_count": 78,
   "metadata": {},
   "outputs": [
    {
     "data": {
      "text/plain": [
       "0.4534825344039475"
      ]
     },
     "execution_count": 78,
     "metadata": {},
     "output_type": "execute_result"
    }
   ],
   "source": [
    "linreg.score(X_test, y_test)"
   ]
  },
  {
   "cell_type": "code",
   "execution_count": 79,
   "metadata": {},
   "outputs": [
    {
     "name": "stdout",
     "output_type": "stream",
     "text": [
      " Evaluation of Training Set:\n",
      " r2_score\t0.44439594311706043,\n",
      " explained_variance_score\t0.4443959431170603,\n",
      " mean_absolute_error\t0.9859495884818646,\n",
      " mean_squared_error\t2.1846431758686977.\n",
      "\n",
      " Evaluation of Test Set:\n",
      " r2_score\t0.4534825344039475,\n",
      " explained_variance_score\t0.4535573246347192,\n",
      " mean_absolute_error\t0.9788694943404825,\n",
      " mean_squared_error\t2.089550023223439.\n",
      "\n"
     ]
    }
   ],
   "source": [
    "y_pred = logreg.predict(X_test)\n",
    "y_pred_train = logreg.predict(X_train)\n",
    "\n",
    "\n",
    "print(\" Evaluation of Training Set:\\n r2_score\\t{},\\n explained_variance_score\\t{},\\n mean_absolute_error\\t{},\\n mean_squared_error\\t{}.\\n\".format(r2_score(y_train, y_pred_train), \\\n",
    "                                                                                                                explained_variance_score(y_train, y_pred_train),\\\n",
    "                                                                                                                mean_absolute_error(y_train, y_pred_train),\\\n",
    "                                                                                                                mean_squared_error(y_train, y_pred_train)))\n",
    "\n",
    "\n",
    "print(\" Evaluation of Test Set:\\n r2_score\\t{},\\n explained_variance_score\\t{},\\n mean_absolute_error\\t{},\\n mean_squared_error\\t{}.\\n\".format(r2_score(y_test, y_pred), \\\n",
    "                                                                                                                explained_variance_score(y_test, y_pred),\\\n",
    "                                                                                                                mean_absolute_error(y_test, y_pred),\\\n",
    "                                                                                                                mean_squared_error(y_test, y_pred)))"
   ]
  },
  {
   "cell_type": "markdown",
   "metadata": {},
   "source": [
    "# Prediction with Xgboost:"
   ]
  },
  {
   "cell_type": "code",
   "execution_count": 69,
   "metadata": {},
   "outputs": [],
   "source": [
    "import xgboost as xgb\n",
    "\n",
    "xgtrain = xgb.DMatrix(X_train.values, y_train.values)\n",
    "xgtest = xgb.DMatrix(X_test.values, y_test.values)\n",
    "evallist = [(xgtrain, 'train'),(xgtest, 'eval'),]"
   ]
  },
  {
   "cell_type": "code",
   "execution_count": 70,
   "metadata": {},
   "outputs": [
    {
     "name": "stdout",
     "output_type": "stream",
     "text": [
      "[0]\ttrain-rmse:1.89624\teval-rmse:1.87384\n",
      "Multiple eval metrics have been passed: 'eval-rmse' will be used for early stopping.\n",
      "\n",
      "Will train until eval-rmse hasn't improved in 10 rounds.\n",
      "[1]\ttrain-rmse:1.63837\teval-rmse:1.61439\n",
      "[2]\ttrain-rmse:1.49362\teval-rmse:1.46812\n",
      "[3]\ttrain-rmse:1.39366\teval-rmse:1.36623\n",
      "[4]\ttrain-rmse:1.32161\teval-rmse:1.29806\n",
      "[5]\ttrain-rmse:1.28227\teval-rmse:1.26304\n",
      "[6]\ttrain-rmse:1.24068\teval-rmse:1.22904\n",
      "[7]\ttrain-rmse:1.21288\teval-rmse:1.20653\n",
      "[8]\ttrain-rmse:1.19781\teval-rmse:1.19171\n",
      "[9]\ttrain-rmse:1.18074\teval-rmse:1.17718\n",
      "[10]\ttrain-rmse:1.16449\teval-rmse:1.16426\n",
      "[11]\ttrain-rmse:1.14339\teval-rmse:1.14882\n",
      "[12]\ttrain-rmse:1.13094\teval-rmse:1.13857\n",
      "[13]\ttrain-rmse:1.12512\teval-rmse:1.13292\n",
      "[14]\ttrain-rmse:1.11211\teval-rmse:1.12736\n",
      "[15]\ttrain-rmse:1.10452\teval-rmse:1.12172\n",
      "[16]\ttrain-rmse:1.09955\teval-rmse:1.11719\n",
      "[17]\ttrain-rmse:1.09248\teval-rmse:1.11084\n",
      "[18]\ttrain-rmse:1.08880\teval-rmse:1.10753\n",
      "[19]\ttrain-rmse:1.08397\teval-rmse:1.10229\n",
      "[20]\ttrain-rmse:1.07966\teval-rmse:1.09918\n",
      "[21]\ttrain-rmse:1.07466\teval-rmse:1.09533\n",
      "[22]\ttrain-rmse:1.06836\teval-rmse:1.09008\n",
      "[23]\ttrain-rmse:1.06315\teval-rmse:1.08592\n",
      "[24]\ttrain-rmse:1.06050\teval-rmse:1.08379\n",
      "[25]\ttrain-rmse:1.05608\teval-rmse:1.08009\n",
      "[26]\ttrain-rmse:1.04568\teval-rmse:1.07699\n",
      "[27]\ttrain-rmse:1.03119\teval-rmse:1.06554\n",
      "[28]\ttrain-rmse:1.02553\teval-rmse:1.06062\n",
      "[29]\ttrain-rmse:1.02239\teval-rmse:1.05838\n",
      "[30]\ttrain-rmse:1.01903\teval-rmse:1.05588\n",
      "[31]\ttrain-rmse:1.01050\teval-rmse:1.04990\n",
      "[32]\ttrain-rmse:1.00879\teval-rmse:1.04860\n",
      "[33]\ttrain-rmse:1.00748\teval-rmse:1.04753\n",
      "[34]\ttrain-rmse:1.00488\teval-rmse:1.04602\n",
      "[35]\ttrain-rmse:1.00303\teval-rmse:1.04457\n",
      "[36]\ttrain-rmse:0.99904\teval-rmse:1.04089\n",
      "[37]\ttrain-rmse:0.98893\teval-rmse:1.03675\n",
      "[38]\ttrain-rmse:0.98705\teval-rmse:1.03499\n",
      "[39]\ttrain-rmse:0.98321\teval-rmse:1.03198\n",
      "[40]\ttrain-rmse:0.98218\teval-rmse:1.03091\n",
      "[41]\ttrain-rmse:0.97732\teval-rmse:1.02832\n",
      "[42]\ttrain-rmse:0.96668\teval-rmse:1.02092\n",
      "[43]\ttrain-rmse:0.96358\teval-rmse:1.01866\n",
      "[44]\ttrain-rmse:0.96103\teval-rmse:1.01695\n",
      "[45]\ttrain-rmse:0.95998\teval-rmse:1.01613\n",
      "[46]\ttrain-rmse:0.95235\teval-rmse:1.01192\n",
      "[47]\ttrain-rmse:0.94698\teval-rmse:1.00874\n",
      "[48]\ttrain-rmse:0.94482\teval-rmse:1.00690\n",
      "[49]\ttrain-rmse:0.93754\teval-rmse:1.00219\n",
      "[50]\ttrain-rmse:0.93645\teval-rmse:1.00121\n",
      "[51]\ttrain-rmse:0.93364\teval-rmse:0.99848\n",
      "[52]\ttrain-rmse:0.93300\teval-rmse:0.99756\n",
      "[53]\ttrain-rmse:0.92999\teval-rmse:0.99559\n",
      "[54]\ttrain-rmse:0.92584\teval-rmse:0.99281\n",
      "[55]\ttrain-rmse:0.92243\teval-rmse:0.98994\n",
      "[56]\ttrain-rmse:0.91931\teval-rmse:0.98671\n",
      "[57]\ttrain-rmse:0.91459\teval-rmse:0.98232\n",
      "[58]\ttrain-rmse:0.90883\teval-rmse:0.98068\n",
      "[59]\ttrain-rmse:0.90512\teval-rmse:0.97707\n",
      "[60]\ttrain-rmse:0.90409\teval-rmse:0.97642\n",
      "[61]\ttrain-rmse:0.90000\teval-rmse:0.97391\n",
      "[62]\ttrain-rmse:0.89899\teval-rmse:0.97311\n",
      "[63]\ttrain-rmse:0.89600\teval-rmse:0.97047\n",
      "[64]\ttrain-rmse:0.89441\teval-rmse:0.96892\n",
      "[65]\ttrain-rmse:0.89223\teval-rmse:0.96773\n",
      "[66]\ttrain-rmse:0.88912\teval-rmse:0.96559\n",
      "[67]\ttrain-rmse:0.88460\teval-rmse:0.96274\n",
      "[68]\ttrain-rmse:0.88138\teval-rmse:0.95775\n",
      "[69]\ttrain-rmse:0.87832\teval-rmse:0.95582\n",
      "[70]\ttrain-rmse:0.87603\teval-rmse:0.95427\n",
      "[71]\ttrain-rmse:0.87069\teval-rmse:0.94968\n",
      "[72]\ttrain-rmse:0.86893\teval-rmse:0.94833\n",
      "[73]\ttrain-rmse:0.86767\teval-rmse:0.94815\n",
      "[74]\ttrain-rmse:0.86532\teval-rmse:0.94637\n",
      "[75]\ttrain-rmse:0.86465\teval-rmse:0.94560\n",
      "[76]\ttrain-rmse:0.86290\teval-rmse:0.94451\n",
      "[77]\ttrain-rmse:0.86028\teval-rmse:0.94260\n",
      "[78]\ttrain-rmse:0.85804\teval-rmse:0.94120\n",
      "[79]\ttrain-rmse:0.85696\teval-rmse:0.94090\n",
      "[80]\ttrain-rmse:0.85383\teval-rmse:0.93947\n",
      "[81]\ttrain-rmse:0.85254\teval-rmse:0.93877\n",
      "[82]\ttrain-rmse:0.85117\teval-rmse:0.93772\n",
      "[83]\ttrain-rmse:0.84781\teval-rmse:0.93531\n",
      "[84]\ttrain-rmse:0.84619\teval-rmse:0.93479\n",
      "[85]\ttrain-rmse:0.84468\teval-rmse:0.93377\n",
      "[86]\ttrain-rmse:0.84424\teval-rmse:0.93356\n",
      "[87]\ttrain-rmse:0.84170\teval-rmse:0.93048\n",
      "[88]\ttrain-rmse:0.83956\teval-rmse:0.92879\n",
      "[89]\ttrain-rmse:0.83537\teval-rmse:0.92581\n",
      "[90]\ttrain-rmse:0.83016\teval-rmse:0.92136\n",
      "[91]\ttrain-rmse:0.82651\teval-rmse:0.91946\n",
      "[92]\ttrain-rmse:0.82263\teval-rmse:0.91608\n",
      "[93]\ttrain-rmse:0.82193\teval-rmse:0.91556\n",
      "[94]\ttrain-rmse:0.81969\teval-rmse:0.91402\n",
      "[95]\ttrain-rmse:0.81835\teval-rmse:0.91355\n",
      "[96]\ttrain-rmse:0.81643\teval-rmse:0.91186\n",
      "[97]\ttrain-rmse:0.81359\teval-rmse:0.90925\n",
      "[98]\ttrain-rmse:0.81275\teval-rmse:0.90881\n",
      "[99]\ttrain-rmse:0.81034\teval-rmse:0.90677\n"
     ]
    }
   ],
   "source": [
    "param = {'silent': 1, 'max_depth': 5,'min_child_weight': 4,\\\n",
    "         'learning_rates': 0.05, 'alpha':1.5, 'lambda':0.5, 'objective':'reg:linear'}\n",
    "num_boost_round = 100\n",
    "bst = xgb.train(param, xgtrain, num_boost_round, evallist, early_stopping_rounds=10)"
   ]
  },
  {
   "cell_type": "code",
   "execution_count": 71,
   "metadata": {
    "scrolled": true
   },
   "outputs": [
    {
     "name": "stdout",
     "output_type": "stream",
     "text": [
      " Evaluation of Training Set:\n",
      " r2_score\t0.8329992875850695,\n",
      " explained_variance_score\t0.8329992921213127,\n",
      " mean_absolute_error\t0.5453586585016614,\n",
      " mean_squared_error\t0.6566492130912509.\n",
      "\n",
      " Evaluation of Test Set:\n",
      " r2_score\t0.7849452501673593,\n",
      " explained_variance_score\t0.7849523874112131,\n",
      " mean_absolute_error\t0.6042769634253177,\n",
      " mean_squared_error\t0.822238420170173.\n",
      "\n"
     ]
    }
   ],
   "source": [
    "X_dtest = xgb.DMatrix(X_test.values)\n",
    "X_dtrain = xgb.DMatrix(X_train.values)\n",
    "y_pred = bst.predict(X_dtest)\n",
    "y_pred_train = bst.predict(X_dtrain)\n",
    "\n",
    "print(\" Evaluation of Training Set:\\n r2_score\\t{},\\n explained_variance_score\\t{},\\n mean_absolute_error\\t{},\\n mean_squared_error\\t{}.\\n\".format(r2_score(y_train, y_pred_train), \\\n",
    "                                                                                                                explained_variance_score(y_train, y_pred_train),\\\n",
    "                                                                                                                mean_absolute_error(y_train, y_pred_train),\\\n",
    "                                                                                                                mean_squared_error(y_train, y_pred_train)))\n",
    "\n",
    "\n",
    "print(\" Evaluation of Test Set:\\n r2_score\\t{},\\n explained_variance_score\\t{},\\n mean_absolute_error\\t{},\\n mean_squared_error\\t{}.\\n\".format(r2_score(y_test, y_pred), \\\n",
    "                                                                                                                explained_variance_score(y_test, y_pred),\\\n",
    "                                                                                                                mean_absolute_error(y_test, y_pred),\\\n",
    "                                                                                                                mean_squared_error(y_test, y_pred)))\n"
   ]
  },
  {
   "cell_type": "code",
   "execution_count": 72,
   "metadata": {},
   "outputs": [],
   "source": [
    "model_xgb = xgb.XGBRegressor(max_depth = 5,  min_child_weight = 4, n_estimators=40,\\\n",
    "                             silent=True, objective='reg:linear', gamma = 1, \\\n",
    "                            booster='gbtree', subsample=1,colsample_bytree=1, \\\n",
    "                              reg_alpha = 1.5, reg_lamba = 0.5, \\\n",
    "                             base_score=0.1, random_state=0)\n",
    "\n",
    "param_grid = {'learning_rate': [x/10 for x in range(1,5,1)]\n",
    "             }\n",
    "scorer = make_scorer(mean_squared_error)\n",
    "xgb_search = GridSearchCV(estimator = model_xgb, param_grid = param_grid, cv=5, scoring=scorer)\n",
    "xgb_search.fit(X_train,y_train)\n",
    "y_pred = xgb_search.best_estimator_.predict(X_test)"
   ]
  },
  {
   "cell_type": "code",
   "execution_count": 73,
   "metadata": {},
   "outputs": [
    {
     "data": {
      "text/plain": [
       "{'learning_rate': 0.1}"
      ]
     },
     "execution_count": 73,
     "metadata": {},
     "output_type": "execute_result"
    }
   ],
   "source": [
    "xgb_search.best_params_"
   ]
  },
  {
   "cell_type": "code",
   "execution_count": 74,
   "metadata": {},
   "outputs": [
    {
     "name": "stdout",
     "output_type": "stream",
     "text": [
      " Evaluation of Training Set:\n",
      " r2_score\t0.6738143186554657,\n",
      " explained_variance_score\t0.6739598526628473,\n",
      " mean_absolute_error\t0.7591033388807944,\n",
      " mean_squared_error\t1.2825668099208214.\n",
      "\n",
      " Evaluation of Test Set:\n",
      " r2_score\t0.6671198302416814,\n",
      " explained_variance_score\t0.6671468609407929,\n",
      " mean_absolute_error\t0.7690874222786713,\n",
      " mean_squared_error\t1.2727310840660915.\n",
      "\n"
     ]
    }
   ],
   "source": [
    "y_pred = xgb_search.best_estimator_.predict(X_test)\n",
    "y_pred_train = xgb_search.best_estimator_.predict(X_train)\n",
    "\n",
    "print(\" Evaluation of Training Set:\\n r2_score\\t{},\\n explained_variance_score\\t{},\\n mean_absolute_error\\t{},\\n mean_squared_error\\t{}.\\n\".format(r2_score(y_train, y_pred_train), \\\n",
    "                                                                                                                explained_variance_score(y_train, y_pred_train),\\\n",
    "                                                                                                                mean_absolute_error(y_train, y_pred_train),\\\n",
    "                                                                                                                mean_squared_error(y_train, y_pred_train)))\n",
    "\n",
    "\n",
    "print(\" Evaluation of Test Set:\\n r2_score\\t{},\\n explained_variance_score\\t{},\\n mean_absolute_error\\t{},\\n mean_squared_error\\t{}.\\n\".format(r2_score(y_test, y_pred), \\\n",
    "                                                                                                                explained_variance_score(y_test, y_pred),\\\n",
    "                                                                                                                mean_absolute_error(y_test, y_pred),\\\n",
    "                                                                                                                mean_squared_error(y_test, y_pred)))"
   ]
  },
  {
   "cell_type": "code",
   "execution_count": 75,
   "metadata": {},
   "outputs": [
    {
     "data": {
      "text/plain": [
       "Text(0.5, 1.0, 'Feature Importances')"
      ]
     },
     "execution_count": 75,
     "metadata": {},
     "output_type": "execute_result"
    },
    {
     "data": {
      "image/png": "[encoded data removed]",
      "text/plain": [
       "<Figure size 1440x2160 with 1 Axes>"
      ]
     },
     "metadata": {
      "needs_background": "light"
     },
     "output_type": "display_data"
    }
   ],
   "source": [
    "features = X.columns\n",
    "importances = xgb_search.best_estimator_.feature_importances_\n",
    "indices = np.argsort(importances)\n",
    "\n",
    "\n",
    "plt.figure(figsize = (20,30))\n",
    "plt.barh(range(len(indices)), importances[indices], color='b', align='center')\n",
    "plt.yticks(range(len(indices)), features[indices])\n",
    "plt.xlabel('Relative Importance')\n",
    "plt.title('Feature Importances')"
   ]
  },
  {
   "cell_type": "code",
   "execution_count": 76,
   "metadata": {},
   "outputs": [
    {
     "name": "stdout",
     "output_type": "stream",
     "text": [
      "[00:58:06] WARNING: C:/Users/Administrator/workspace/xgboost-win64_release_1.0.0/src/objective/regression_obj.cu:167: reg:linear is now deprecated in favor of reg:squarederror.\n",
      " Evaluation of Training Set:\n",
      " r2_score\t0.8501844117693139,\n",
      " explained_variance_score\t0.8501844126375258,\n",
      " mean_absolute_error\t0.5147195217758508,\n",
      " mean_squared_error\t0.5890770566059433.\n",
      "\n",
      " Evaluation of Test Set:\n",
      " r2_score\t0.8016487095837224,\n",
      " explained_variance_score\t0.8016551885984624,\n",
      " mean_absolute_error\t0.5798192600079115,\n",
      " mean_squared_error\t0.7583745618151488.\n",
      "\n"
     ]
    }
   ],
   "source": [
    "\n",
    "model = xgb.XGBRegressor(max_depth=5, learning_rate=0.1, gamma = 1, min_child_weight=4, \\\n",
    "                         reg_alpha = 1.5, reg_lambda = 0.5,n_estimators=400, silent=False, base_score = 0.1, \\\n",
    "                         subsample=1, colsample_bytree=1,\n",
    "                         objective='reg:linear', booster='gbtree')\n",
    "\n",
    "model.fit(X_train, y_train)\n",
    "\n",
    "y_pred = model.predict(X_test)\n",
    "y_pred_train = model.predict(X_train)\n",
    "\n",
    "print(\" Evaluation of Training Set:\\n r2_score\\t{},\\n explained_variance_score\\t{},\\n mean_absolute_error\\t{},\\n mean_squared_error\\t{}.\\n\".format(r2_score(y_train, y_pred_train), \\\n",
    "                                                                                                                explained_variance_score(y_train, y_pred_train),\\\n",
    "                                                                                                                mean_absolute_error(y_train, y_pred_train),\\\n",
    "                                                                                                                mean_squared_error(y_train, y_pred_train)))\n",
    "\n",
    "\n",
    "print(\" Evaluation of Test Set:\\n r2_score\\t{},\\n explained_variance_score\\t{},\\n mean_absolute_error\\t{},\\n mean_squared_error\\t{}.\\n\".format(r2_score(y_test, y_pred), \\\n",
    "                                                                                                                explained_variance_score(y_test, y_pred),\\\n",
    "                                                                                                                mean_absolute_error(y_test, y_pred),\\\n",
    "                                                                                                                mean_squared_error(y_test, y_pred)))"
   ]
  }
 ],
 "metadata": {
  "kernelspec": {
   "display_name": "Python 3",
   "language": "python",
   "name": "python3"
  },
  "language_info": {
   "codemirror_mode": {
    "name": "ipython",
    "version": 3
   },
   "file_extension": ".py",
   "mimetype": "text/x-python",
   "name": "python",
   "nbconvert_exporter": "python",
   "pygments_lexer": "ipython3",
   "version": "3.7.0"
  }
 },
 "nbformat": 4,
 "nbformat_minor": 2
}
